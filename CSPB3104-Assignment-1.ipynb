{
 "cells": [
  {
   "cell_type": "markdown",
   "metadata": {
    "deletable": false,
    "editable": false,
    "nbgrader": {
     "checksum": "36fbbc00986735486d428ea2568edd2e",
     "grade": false,
     "grade_id": "cell-086e405e17c8a0df",
     "locked": true,
     "schema_version": 1,
     "solution": false
    }
   },
   "source": [
    "# CSCI 3104 Assignment 1:"
   ]
  },
  {
   "cell_type": "markdown",
   "metadata": {
    "deletable": false,
    "editable": false,
    "nbgrader": {
     "checksum": "0080687169369e2f3ed274d2627409bf",
     "grade": false,
     "grade_id": "cell-598c4569950c61cd",
     "locked": true,
     "schema_version": 1,
     "solution": false
    }
   },
   "source": [
    "***\n",
    "# Instructions\n",
    "\n",
    "This assignment is to be completed as a python3 notebook.  When you upload, please upload the completed notebook (ipynb file).\n",
    "\n",
    "The questions  provided  below will ask you to either write code or \n",
    "write answers in the form of markdown.\n",
    "\n",
    " Markdown syntax guide is here: [click here](https://github.com/adam-p/markdown-here/wiki/Markdown-Cheatsheet)\n",
    "\n",
    "Using markdown you can typeset formulae using latex.\n",
    "This way you can write nice readable answers with formulae like thus:\n",
    "\n",
    "The algorithm runs in time $\\Theta\\left(n^{2.1\\log_2(\\log_2( n \\log^*(n)))}\\right)$, \n",
    "where $\\log^*(n)$ is the inverse _Ackerman_ function.\n",
    "\n",
    "__Double click anywhere on this box to find out how your instructor typeset it. Press Shift+Enter to go back.__\n",
    "\n",
    "***"
   ]
  },
  {
   "cell_type": "markdown",
   "metadata": {
    "deletable": false,
    "editable": false,
    "nbgrader": {
     "checksum": "e732462e4eeb2d4845707309687bdd53",
     "grade": false,
     "grade_id": "cell-9f589cc259529ba9",
     "locked": true,
     "schema_version": 1,
     "solution": false
    }
   },
   "source": [
    "## Question 1 : Everyday Algorithms.\n",
    "\n",
    "  Write down a ten sentence description of an algorithm that drives an important\n",
    "piece of technology that you encounter in your every day life. \n",
    "Research on the Internet to find out what sort of algorithms can solve the \n",
    "core problem behind the technology and how it works.\n",
    "\n",
    "__Examples:__ \n",
    "> 1. Auto-complete feature when typing text messages on my iphone, \n",
    "> 2. My email service automatically tags dates/times so that I could insert \n",
    "them in my calendar, or \n",
    "> 3. My python IDE automatically takes me to a function's code from a call site."
   ]
  },
  {
   "cell_type": "markdown",
   "metadata": {
    "deletable": false,
    "nbgrader": {
     "checksum": "f915d99606fadd005dcd7e3c92dd6c9b",
     "grade": true,
     "grade_id": "cell-eb8962afb5074af9",
     "locked": false,
     "points": 20,
     "schema_version": 1,
     "solution": true
    }
   },
   "source": [
    "Chosen Algorithm: Spotify shuffle feature (or any other music streaming service):\n",
    "\n",
    "Problem: A user does not want to listen to their music library in order. Instead, they want to hear a combination of artists one after the other, and different tracks.\n",
    "\n",
    "It starts by creating a list of all of the user's tracks. The list is then randomised. An example of this is the Fisher-Yates shuffle: this technique swaps items of a list in a random order. The algorithm tracks things like recently played tracks to avoid immediate repetition. The algorithm takes into account favourite tracks, skipped tracks, etc. for a better shuffle order. As a priority, they sometimes put popular tracks first. Also, they mix in some unfamiliar ones for balance. The user has other shuffle options like smart shuffle, so they can incorporate new recommended music. It always take user input, so it keeps getting better. The user also has the option to shuffle again, if they did not like the initial shuffle. Features like smart shuffle incorporate recommended songs inside the user's shuffled playlist."
   ]
  },
  {
   "cell_type": "markdown",
   "metadata": {
    "deletable": false,
    "editable": false,
    "nbgrader": {
     "checksum": "bf9b8c7eb79332f10997dc896096fd79",
     "grade": false,
     "grade_id": "cell-067dec7bb19a61b4",
     "locked": true,
     "schema_version": 1,
     "solution": false
    }
   },
   "source": [
    "***\n",
    "## Question 2(a): Insert into a sorted array.\n",
    "\n",
    "Write a python3 function `insert_into(a, j)` that given sorted array `a` and a number `j`,  returns a new array that includes the contents of the original array and the newly inserted element `j`, so that the returned array is also sorted. \n",
    "\n",
    "__You are not allowed to use inbuilt routines in python such as sort. You should also avoid using the list insert method.__\n",
    "\n"
   ]
  },
  {
   "cell_type": "code",
   "execution_count": 69,
   "metadata": {
    "deletable": false,
    "nbgrader": {
     "checksum": "3d60bef7bf0ee6950be63148c8b93516",
     "grade": false,
     "grade_id": "cell-bfae6e2483f225f6",
     "locked": false,
     "schema_version": 1,
     "solution": true
    }
   },
   "outputs": [],
   "source": [
    "# Answer 2(a): IMPLEMENT HERE. Each time you edit, do not forget to type shift+enter\n",
    "def insert_into(a, j):\n",
    "    a.append(j)\n",
    "    for i in range(len(a) - 1, 0, -1):\n",
    "        if a[i] < a[i-1]:\n",
    "            swap(i, i-1, a)\n",
    "        else:\n",
    "            break\n",
    "    return a\n",
    "\n",
    "def swap(i, j, lst):\n",
    "    num1 = lst[i]\n",
    "    num2 = lst[j]\n",
    "    lst[i] = num2\n",
    "    lst[j] = num1\n",
    "\n",
    "# Press Shift enter when you are done with your code"
   ]
  },
  {
   "cell_type": "markdown",
   "metadata": {
    "deletable": false,
    "editable": false,
    "nbgrader": {
     "checksum": "b8c05e659790069201f563bfd0ad7307",
     "grade": false,
     "grade_id": "cell-92203b41f4912683",
     "locked": true,
     "schema_version": 1,
     "solution": false
    }
   },
   "source": [
    "## Question 2(b): Running time of your insertion routine\n",
    "For an input of size $n$, how much time does your routine take to run in the worst case? You can use big-theta notation $\\Theta$ for your answer."
   ]
  },
  {
   "cell_type": "markdown",
   "metadata": {
    "deletable": false,
    "nbgrader": {
     "checksum": "fd1b95e85f22eb6e6d6a3b70b02c793a",
     "grade": true,
     "grade_id": "cell-e20bd727fd810843",
     "locked": false,
     "points": 20,
     "schema_version": 1,
     "solution": true
    }
   },
   "source": [
    "Although the input list is already sorted, the worst case is when the input number to be inserted is the smallest among the list. This results in the number being moved each iteration closer to the start of the list, resulting in $\\Theta$(n); the numbers are swapped n times. For the best case, its notation can be written as $\\Theta$(1); this happens when the inserted number actually belongs to the end of the list."
   ]
  },
  {
   "cell_type": "markdown",
   "metadata": {
    "deletable": false,
    "editable": false,
    "nbgrader": {
     "checksum": "06f6f051b3507eb4cda09792fac437ad",
     "grade": false,
     "grade_id": "cell-abd155f85d45b068",
     "locked": true,
     "schema_version": 1,
     "solution": false
    }
   },
   "source": [
    "***\n",
    "## Question 3: Tournaments\n",
    "\n",
    "A tennis tournament has $n$ participants who must play matches in rounds to determine a winner. For instance if $n = 100$, then the first round has $50$ matches, the second round has $25$ matches and so on. If the number of players left in a round is odd, then one lucky player is chosen at random to move to the next round without contest.\n",
    "\n",
    "Do not use asymptotic ($O, \\Omega, \\Theta$) notations in your answer below. Provide exact numbers as much as possible.\n",
    "\n",
    "1. Write down a formula involving $n$ for the total number of rounds played? (*Hint*: You should try some values for $n$, before you attempt to derive a formula ).\n",
    "\n",
    "2. Show that the total number of matches played cannot exceed $n$. (*Hint*: write down a series summation for the total number of matches played and use known facts about summation of geometric series ).\n",
    "\n",
    "3. How many matches does the overall winner need to play in the _best case_? \n",
    "\n",
    "4. How many matches does the overall winner need to play in the _worst case_?\n",
    "\n",
    "5. Assume that every player has a unique hidden talent score so that for any match, the higher talent score is always going to win. \n",
    "Is the winner always guaranteed to be the highest talent score? Is the runner up (i.e, the person who lost to the winner in the final match) always the second highest talent score? If your answer is no, illustrate using a counter-example.\n",
    "\n",
    "6. From the answer in 5. design a scheme to identify the second highest talent score among the $n$ participants. Your scheme may select some players and schedule extra matches. (*Hint*: Look up the term _repechage_ in olympics sports)\n"
   ]
  },
  {
   "cell_type": "markdown",
   "metadata": {
    "deletable": false,
    "nbgrader": {
     "checksum": "7fbeef83ad3de88a6701227521b43bda",
     "grade": true,
     "grade_id": "cell-04cfcc6cb37a48fe",
     "locked": false,
     "points": 40,
     "schema_version": 1,
     "solution": true
    }
   },
   "source": [
    "1. For obtaining the formula, values like 100 and 200 were used as $n$. For example, when $n$ = 100, the total number of rounds can be calculated as 100 / 2 = 50 matches, 50 / 2 = 25 matches, 75 total, and so on. For a number like 100, the total number of rounds will equal 7. This means that the total number of rounds, $r$ in this case can be obtained by rounding up the base 2 logarithm of n. The formula can be expressed as: $r = log_2$($n$), where the final answer, $r$, is rounded up to the nearest whole number. For example, doing $r = log_2(100)$ yields the same result (7) as consecutively dividing the number of matches in each rounds by two and counting the number of rounds.\n",
    "\n",
    "2. The total number of matches does not exceed $n$. Using a summation to represent the total number of matches, this can be expressed as: total matches = $\\frac{n}{2} + \\frac{n}{4} + \\frac{n}{8} + \\frac{n}{16} ...$ \n",
    "\n",
    "    As it was done with question 1, there is a common pattern, one where each term is multiplied by $\\frac{1}{2}$ for each round (this is the common ratio for the geometric series). Now that the common ratio has been identified, sum of geometric series can be written.\n",
    "\n",
    "    $S = \\frac{n}{2} (\\frac{1-\\frac{1}{2}^{log_2n}}{1-\\frac{1}{2}})$ Note: the number of terms is the number of rounds($log_2n$), where the result of this operation is rounded up to the nearest whole number. This summation formula never exceeds n, which proves that the total number of matches played does not exceed the number of players.\n",
    "    \n",
    "3. In the best case, the number of rounds the player plays is just 1. This happens in the case where $n = 3$. As there will only be two rounds total, the player may luckily advance to the next round with no contest. This leaves only 1 match to be played: the final match. This is the case with an odd number of players: a lucky player advances with no contest, therefore playing one less game.\n",
    "\n",
    "4. In the worst case, the player would need to play a total of $r$ matches, the same as the number of rounds. The worst case happens when the player is never selected as a lucky player to advance to the next round, therefore playing the same amount of games as there are rounds. For example, in a tournament with 7 players, the player participates in $r = log_2(100) = 7$ matches.\n",
    "\n",
    "5. The winner is always guaranteed to be the person with the highest hidden talent score, but that does not mean the runner up is the player with the highest second talent score. To disprove this fact: it can be illustrated simply by the scenario in which the person with the highest talent score and the person with the second highest talent score face each other in the knockout stages. In this scenario, the person with the second highest talent score is out of the tournament. Another example could be when a player with a lower talent score luckily advances to the final stages. The player would subsequently lose, but that would leave him as a runner up with a lower talent score than the real second highest talent score.\n",
    "\n",
    "6. For devising a scheme to find the second highest talent score, we could use repechage, a scheme used in sports like football, where the winner among the losers plays for a spot in the final. Also known as double elimination, the scheme would work in the following way:\n",
    "    1. Conduct matches normally\n",
    "    2. Losers go into the repechage bracket, for a chance to keep playing for the final.\n",
    "    3. Winners from the repechage bracket advance (they compete against other losers, typically from a round up), so better players are farther up in the repechage knockout stages, revealing potential second highest runner up score players.\n",
    "    4. Winner from the repechage winner bracket advances to final with the final contender from the championship bracket.\n",
    "    5. Loser from the match is identified as the runner-up with the highest talent score.\n"
   ]
  },
  {
   "cell_type": "markdown",
   "metadata": {
    "deletable": false,
    "editable": false,
    "nbgrader": {
     "checksum": "748123b5818848ee9f2a9c15be1b0ebf",
     "grade": false,
     "grade_id": "cell-67bf820f43d30c7d",
     "locked": true,
     "schema_version": 1,
     "solution": false
    }
   },
   "source": [
    "***\n",
    "## Autograder for quesion 2(a): Do not edit code below. "
   ]
  },
  {
   "cell_type": "code",
   "execution_count": 70,
   "metadata": {
    "deletable": false,
    "editable": false,
    "nbgrader": {
     "checksum": "4d22bf97981848ddef5f571de1c32e72",
     "grade": true,
     "grade_id": "cell-d4ddaf2aded6b2ff",
     "locked": true,
     "points": 20,
     "schema_version": 1,
     "solution": false
    }
   },
   "outputs": [
    {
     "name": "stderr",
     "output_type": "stream",
     "text": [
      "/var/folders/58/l_9dhj0n5f5_by_d2s3c0gx40000gn/T/ipykernel_37919/3086198937.py:3: DeprecationWarning: Importing display from IPython.core.display is deprecated since IPython 7.14, please import from IPython display\n",
      "  from IPython.core.display import display, HTML\n"
     ]
    },
    {
     "data": {
      "text/html": [
       "<font color=\"green\"> All tests succeeded! </font>"
      ],
      "text/plain": [
       "<IPython.core.display.HTML object>"
      ]
     },
     "metadata": {},
     "output_type": "display_data"
    }
   ],
   "source": [
    "## DO NOT EDIT TESTING CODE FOR YOUR ANSWER ABOVE\n",
    "# Press shift enter to test your code. Ensure that your code has been saved first by pressing shift+enter on the previous cell.\n",
    "from IPython.core.display import display, HTML\n",
    "def test_insert():\n",
    "    failed = False\n",
    "    test_cases = [ # (Input Array, Inserted Number, Expected Output)\n",
    "             ([1,3,6,8,10], 4 , [1,3,4,6,8,10]),\n",
    "             ([1,1,1,1,3,3,5,5,7,7], 1, [1,1,1,1,1,3,3,5,5,7,7]),\n",
    "             ([-10,9,15,18,35,44], 47, [-10, 9, 15, 18, 35, 44, 47]),\n",
    "             ([], 10, [10]),\n",
    "             ([-10, 9, 10, 20, 35], -20, [-20, -10, 9, 10, 20, 35]),\n",
    "             ([0,0,0,0,0,0], 0, [0,0,0,0,0,0,0])]\n",
    "    for (test_array, j, expected_output) in test_cases:\n",
    "        obtained_output = insert_into(test_array, j)\n",
    "        if obtained_output != expected_output:\n",
    "            s1 = '<font color=\\\"red\\\"> Failed - test case: Inputs: a=' + str(test_array)+ ' j=' + str(j)\n",
    "            s2 = '  <b> Expected Output: </b> ' + str(expected_output) + ' Your code output: ' + str(obtained_output) + ' </font>'\n",
    "            display(HTML(s1+s2))\n",
    "            failed = True\n",
    "            \n",
    "    if failed:\n",
    "        display(HTML('<font color=\"red\"> One or more tests failed. </font>'))\n",
    "    else:\n",
    "        display(HTML('<font color=\"green\"> All tests succeeded! </font>'))\n",
    "test_insert()"
   ]
  },
  {
   "cell_type": "code",
   "execution_count": null,
   "metadata": {},
   "outputs": [],
   "source": []
  }
 ],
 "metadata": {
  "kernelspec": {
   "display_name": "Python 3 (ipykernel)",
   "language": "python",
   "name": "python3"
  },
  "language_info": {
   "codemirror_mode": {
    "name": "ipython",
    "version": 3
   },
   "file_extension": ".py",
   "mimetype": "text/x-python",
   "name": "python",
   "nbconvert_exporter": "python",
   "pygments_lexer": "ipython3",
   "version": "3.11.3"
  }
 },
 "nbformat": 4,
 "nbformat_minor": 4
}
