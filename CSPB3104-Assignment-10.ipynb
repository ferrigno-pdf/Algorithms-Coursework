{
 "cells": [
  {
   "cell_type": "markdown",
   "metadata": {},
   "source": [
    "# CSPB 3104 Assignment 10:\n",
    "## Instructions\n",
    "\n",
    "> This assignment is to be completed and uploaded to \n",
    "moodle as a python3 notebook. \n",
    "\n",
    "> Submission deadlines are posted on moodle. \n",
    "\n",
    "> The questions  provided  below will ask you to either write code or \n",
    "write answers in the form of markdown.\n",
    "\n",
    "> Markdown syntax guide is here: [click here](https://github.com/adam-p/markdown-here/wiki/Markdown-Cheatsheet)\n",
    "\n",
    "> Using markdown you can typeset formulae using latex.\n",
    "\n",
    "> This way you can write nice readable answers with formulae like thus:\n",
    "\n",
    ">> The algorithm runs in time $\\Theta\\left(n^{2.1\\log_2(\\log_2( n \\log^*(n)))}\\right)$, \n",
    "wherein $\\log^*(n)$ is the inverse _Ackerman_ function.\n",
    "\n",
    "__Double click anywhere on this box to find out how your instructor typeset it. Press Shift+Enter to go back.__\n"
   ]
  },
  {
   "cell_type": "markdown",
   "metadata": {},
   "source": [
    "## Question 1: Arbitrage Opportunities\n",
    "\n",
    "An arbitrage in finance is a way to make money for sure without much risk. For instance, suppose 1 USD yields 5 Chinese RMB and 1 RMB trades for 0.4 Euros, and 1 Euro trades for 0.52 USD,  you have an arbitrage opportunity\n",
    "wherein you can take x USD, obtain 5x RMB, and in turn trade them for 2x Euros and finally end up with 1.02x USD back. Every time you exercise this opportunity, you get a 2 cent profit (assuming you can trade for free and there is no spread in the buying and selling prices, but that is another can of worms).\n",
    "\n",
    "In theory, arbitrage cannot exist in efficient markets but they can persist for a short amount of time. Electronic traders can then search for such opportunities in real time and rapidly exploit them.\n",
    "\n",
    "You are given a basket of $n$ currencies and for each pair of currencies $(C_i,C_j)$, you are given a ratio\n",
    "$R_{i,j}$ that says that one unit of currency $C_i$ is currently fetching $R_{i,j}$ units of $C_j$.\n",
    "\n",
    "__(A)__ Given the ratios $R_{i,j}$ write an efficient algorithm that can detect if any arbitrage opportunities currently exist. What is the running time of your algorithm?\n",
    "\n",
    "(__Hint:__ Make a graph out of the problem data. What does the presence of arbitrage mean for this graph? )\n",
    "\n",
    "__(B)__ We are not just interested in finding an arbitrage opportunity, but also interested in finding the shortest length opportunity, defined as one that involves the smallest number of trades. Naturally, given that prices change\n",
    "and also given that there are trading fees, such opportunities are more desirable. \n",
    "\n",
    "Write an algorithm to find the smallest length arbitrage opportunity. What is the running time for your algorithm?\n",
    "\n",
    "(__Hint:__ Modify the Floyd Warshall algorithm you learned this week. In particular, how do you detect if there is a negative weight cycle of length k in the graph?)\n",
    "\n",
    "\n"
   ]
  },
  {
   "cell_type": "markdown",
   "metadata": {},
   "source": [
    "### Answer 1 (Expected Length: 12 lines).\n",
    "\n",
    "__(A)__ \n",
    "Making a graph out of the problem data means that for the arbitrage opportunities, a directed graph should be made where $C_i$ has an edge with $C_j$ with an edge weight is $R_{i,j}$. It is also worth mentioning that there can be an edge from $C_j$ to $C_i$, with an edge weight of $\\frac{1}{R_{i,j}}$\\\n",
    "There is an arbitrage opportunity in the presence of a negative cycle. There is a gain when there is a higher value when circling back to $C_i$ from a node that has an edge to it. For example, when circling back to $USD$ in the example, there was a 2 cent gain; there was an opportunity. As the edge weights cannot be multiplications and the ratios are multiplications, we need to use the logarithm of each ratio. Given that some ratios are less than 1, there are negative edge weights, and given that vertices are arranged in a cycle, there is a negative cycle. To detect a negative cycle, we can run the Bellman-Ford algorithm. This would look like the following:\n",
    "1) Start with USD = 0, this is the source node. Set every other node's distance to $\\infty$.\n",
    "2) Set the weight of every edge to $log(R_{i,j})$\n",
    "3) Relax all the edges $V - 1$ times, where $V$ is the number of vertices. Each relaxation updates the node values.\n",
    "4) If the value of USD increases from 0, going from the edge that finalises the cycle, there is an arbitrage opportunity.\n",
    "If the value of USD can be constantly updated, this means there is a negative cycle in the graph.\\\n",
    "Take the example from this problem:\n",
    "- Let the edge weights be the logarithm of each ratio: \n",
    "    - $w(USD, RMB) = log(5) = 0.698$\n",
    "    - $w(RMB, EUR) = log(0.4) = -0.397$\n",
    "    - $w(EUR, USD) = log(0.52) = -0.28$\n",
    "- Running the Bellman-Ford algorithm given these edge weights:\n",
    "    - USD = 0\n",
    "    - RMB = 0.698\n",
    "    - EUR = 0.301\n",
    "- Relaxing further, we get:\n",
    "    - USD = 0.02\n",
    "    - RMB = 0.7\n",
    "    - EUR = 0.303\n",
    "\n",
    "Note: the relax operation is different in this case, as the value of the source node gets updated with a greater value, instead of a lesser one. This means there is a gain of 2 cents in this cycle. As the value of USD can increase, there is a negative cycle. Thus, there is an arbitrage opportunity.\\\n",
    "The running time of this algorithm is the same as the Bellman-Ford algorithm, meaning it is of $\\Theta(|V||E|)$, where $V$ is the number of vertices and $E$ is the number of edges.\n",
    "    \n",
    "\n",
    "__(B)__ \n",
    "As an arbitrage opportunity is represented by a cycle in the graph. We need to find the shortest cycle in the graph.\\\n",
    "For this, we can use a modified version of the Floyd Warshall algorithm. This would look like the following:\\\n",
    "Convert the given exchange ratios $R_{i,j}$ to their logarithmic values $w(i,j) = -\\log(R_{i,j})$ (to handle multiplication as addition).\n",
    "\n",
    "1) Initialise a distance matrix of V * V, where $V$ is the number of vertices. They should have the following characteristics:\n",
    "    - $D[i][i] = 0$ This means the distance from each currency back to itself is 0.\n",
    "    - $D[i][j] = w(i,j)$ This is the weight of every edge from vertex $i$ to vertex $j$. Remember, these weighs are in the form $log(R_{i,j})$.\n",
    "    - If there is no edge between vertices, then $D[i][j] = \\infty$\n",
    "    \n",
    "2) Given the $D$ matrix, iterate through it and consider all paths that follow (paths of length $k$, where $k$ is from 1 to n)\n",
    "3) Update $D$ by relaxing the distances given the edge weights by choosing the min of these two values:\n",
    "    - $D[i][j] = min(D[i][j], D[i][k] + D[k][j])$\n",
    "4) Once the iteration has been completed, the matrix now the \"all pairs shortest path\", meaning the shortest path from one vertex to another.\n",
    "5) Detect if there is any negative weight cycle. As seen in the past implementation, this means there is an arbitrage opportunity. This means checking if $D[i][i] < 0\".\n",
    "6) Find the minimum of these values to obtain the smallest length arbitrage opportunity. This means there is an opportunity for arbitrage.\n",
    "\n",
    "The running time of this algorithm is the same as Floyd-Warshall's, with a running time of $\\Theta(V^3)$, where $V$ is the number of vertices.\n",
    "\n"
   ]
  },
  {
   "cell_type": "markdown",
   "metadata": {},
   "source": [
    "----"
   ]
  },
  {
   "cell_type": "markdown",
   "metadata": {},
   "source": [
    "### Question 2: Longest Paths.\n",
    "\n",
    "Given a weighted, directed graph $G$, the longest simple path from vertex $s$ to $t$ is a path that (a) goes from $s$ to $t$, (b) cannot revisit a vertex along the path, and (c) has the maximum weight among all the paths going from $s$ to $t$.\n",
    "\n",
    "__(A)__ Show using an example that for any graph $G$, that the longest path problem is not equivalent to solving the shortest path problem by negating the edge weights. (*Hint* Negating edge weights will work but for a common problem that makes shortest paths undefined.)\n",
    "\n",
    "__(B)__ Show that if the graph $G$ is a DAG, the longest path problem can be solved by negating the edge weights and solving a shortest path problem. What is the running time cost?\n"
   ]
  },
  {
   "cell_type": "markdown",
   "metadata": {},
   "source": [
    "### Answer 2 (Expected Length: 6 lines)\n",
    "\n",
    "__(A)__\n",
    "Negating edge weighs doesn't always work to find the longest path of a given graph $G$. Consider an example graph that contains positive weight cycles. This graph $G$ contains the following characteristics:\n",
    "- Vertices: {A, B, C, D}\n",
    "\n",
    "- Edges: (they have been negated)\n",
    "    - $(A, B) -> w(A, B) = -2$\n",
    "    - $(B, D) -> w(B, D) = -1$\n",
    "    - $(C, B) -> w(C, B) = -3$\n",
    "    - $(D, C) -> w(C, D) = -4$\n",
    "\n",
    "- Running the Bellmand-Ford algorithm, from $(A,B), (B,D), (D,C), (C,B)$ yields the following results in the first iteration (considering A as the source node): \n",
    "    - A, $d = 0$\n",
    "    - B, $d = -10$\n",
    "    - C, $d = -7$\n",
    "    - D, $d = -3$\n",
    "- All edges have been relaxed after this first iteration, now for the second iteration:\n",
    "    - A, $d = 0$\n",
    "    - B, $d = -18$\n",
    "    - C, $d = -15$\n",
    "    - D, $d = -11$\n",
    "- The third iteration would look like the following:\n",
    "    - A, $d = 0$\n",
    "    - B, $d = -26$\n",
    "    - C, $d = -23$\n",
    "    - D, $d = -19$\n",
    "\n",
    "The graph can be relaxed further after the third iteration, meaning there is a negative weight cycle. This means that the paths to destination nodes is undefined. Therefore, negating the edge weights does not always work for finding the longest path.\n",
    "\n",
    "__(B)__\n",
    "\n",
    "If the given graph $G$ is acyclic, then negating the edge weights yields the longest path from the source node to each node. There are no negative weight cycles that cause the paths to destination nodes to go undefined. Given that there are no cycles, we can use the Bellman-Ford algorithm to find the longest path by negating the edge weights and finding the shortest paths. We can run this algorithm with negative values and there is no risk that any shortest path is undefined, as there are no cycles (negated positive weight cycles).\n",
    "\n",
    "The running time of this algorithm is the same as the discussed Bellman-Ford algorithm. It has a time complexity of $\\Theta(|V||E|)$\n"
   ]
  },
  {
   "cell_type": "markdown",
   "metadata": {},
   "source": [
    "----"
   ]
  },
  {
   "cell_type": "markdown",
   "metadata": {},
   "source": [
    "### Question 3: Being In the Right Place At the Right Time.\n",
    "\n",
    "You are helping a secret agent plan a series of rendezvous in a capital. The rendezvous are happening along different stations of a subway line at precisely hours $1, 2, \\ldots, n$.  There are $m$ subway stations, each with an ID numbered $1, \\ldots, m$.\n",
    "The rendezvous at hour $j$ occurs at station $S_j$:\n",
    "\n",
    "$$\\begin{array}{|l|c|c|c|c|c|}\n",
    "\\hline\n",
    "\\text{Rendezvous} & 1 & 2 & \\cdots & n-1 & n \\\\\n",
    "\\hline\n",
    "\\text{Station ID} & S_1 & S_2 & \\cdots & S_{n-1} & S_n \\\\\n",
    "\\hline \\end{array}$$\n",
    "\n",
    "For instance, The rendezvous at hour 1 might happen at station 5, the rendezvous at hour 2 might happen at station 12, and the rendezvous at hour 3 might happen at station 1.  In this case, $S_1 = 5, S_2 = 12,$ and $S_3 = 1$.  __Note:__ Your answer should be for any sequence of rendezvous, not for this specific example.\n",
    "\n",
    "The spy starts at station $1$ at time $0$ and further, must at all costs attend rendezvous $n$. In each hour, the agent is limited to travelling no more than $K$ stations along the line.  Thus, she must decide whether to skip some of the rendezvous in favor of others.\n",
    "\n",
    "Provide an algorithm to calculate the maximum number of rendezvous the agent can make with the constraint that she must make rendezvous $n$. What is the running time?\n",
    "\n",
    "__Hint:__ As usual, it comes down to defining a graph and solving a suitable problem.\n"
   ]
  },
  {
   "cell_type": "markdown",
   "metadata": {},
   "source": [
    "### Answer 3 (expected length: 6 lines)\n",
    "\n",
    "For this problem, we need to define a graph given the information. \n",
    "- We know that the agent must be at $S_j$ at hour $j$ for the rendezvous to happen.\n",
    "- The agent is limited to travelling no more than $K$ stations along the line. This means that she can't go to a station that is more than $K$ stations away.\n",
    "- The agent needs to be at $S_n$ at hour $n$.\n",
    "- We want to find the longest path from station 1, $S_0 = 1$ to $S_n$.\n",
    "- The station index $S_j$ is where the rendezvous at hour $j$ takes place.\n",
    "The algorithm for finding the maximum number of rendezvous would look like the following:\n",
    "1. Create a DAG based on which stations the agent can travel to. (Consider the constraint $K$, as she cannot travel farther than this).\n",
    "2. Topologically sort the DAG based on the rendezvous hours so as to obtain the traversal in order. This topological sort means the agent will be visiting the stations in chronological order.\n",
    "3. Initialise an array, let's call it $D$. This array identifies the maximum number of rendezvous that the agent can make, given each node. For the starting node, $D[1,0] = 0$. This is the maximum number of rendezvous the agent can make when she's at station $1$ (that's why the first index is $1$), at time $0$ (given the second index of the array). This is initially set to $0$, given that the agent has not been in any rendezvous yet. We also set every other value in the array (node and time) to $-\\infty$, because we are looking for the maximum number of nodes to traverse.\n",
    "4. Traverse each node (in topological order so as to respect the chronological order) and for each node, update the array at station, with the amount of incoming edges. We need to consider the constraint, $K$ as to not go too far on the graph. The max number of rendezvous at $S_j, t$ is determined by looking at the incoming edges and choosing the one that offers the maximum amount of rendezvous. Iterating through all nodes means we get to $S_n$, where we can obtain the maximum number of rendezvous given that we have to make it that station at hour $n$.\n",
    "\n",
    "The running time for this approach to the problem is of $\\Theta(|V|^3)$, where $V$ is the number of vertices or stations. As this is a dynamic programming solution, it may be slower but nonetheless effective."
   ]
  },
  {
   "cell_type": "markdown",
   "metadata": {},
   "source": [
    "----"
   ]
  },
  {
   "cell_type": "markdown",
   "metadata": {},
   "source": [
    "## Question 4: U-turn if you want to.\n",
    "\n",
    "A $N \\times N$ maze is defined by a graph with vertices $(i,j)$ for $1 \\leq i \\leq n$ and $1 \\leq j \\leq n$.\n",
    "Each node $(i,j)$ is connected to a subset of its four adjacent neighbors $\\{(i+1, j), (i, j+1), (i-1, j), (i, j-1) \\}$.\n",
    "\n",
    "The grid is laid out so that $(1,1)$ is the south west corner and $(n,n)$ is the northeast corner.\n",
    "\n",
    "The vehicle starts at $(1,1)$ *oriented north* and needs to reach $(n,n)$ *oriented east*.\n",
    "\n",
    "It can travel along the four cardinal directions $N, E, W, S$ and rapidly change these direction by \n",
    "making a left or right turn. Eg., changing heading from $N$ to $E$ \n",
    "requires making a right turn, $N$ to $W$ requires a left turn and $N$ to $S$\n",
    "requires either 2 left or 2 right turns.\n",
    "\n",
    "Find the minimimum cost path from $(1,1)$ oriented north to $(n,n)$ oriented east, \n",
    "where the cost is defined as the number of \n",
    "edges plus $2 \\times$ the number of left turns plus $3 \\times$ the number of right turns.\n",
    "\n",
    "What is the running time of your algorithm?\n",
    "\n",
    "*Hint* Define a new graph that helps us track not just the vehicle location but also its current travel direction.\n",
    "Define edge weights appropriately so that the shortest cost problem on this new graph will solve the original problem."
   ]
  },
  {
   "cell_type": "markdown",
   "metadata": {},
   "source": [
    "### Answer 4 (Expected Length: 8 lines)\n",
    "\n",
    "Given our $N * N$ maze, we need to find the shortest path from $(1, 1)$ to $(n, n)$. For this approach we will be using a graph, to determine the state of the vehicle (its travel direction and location). The algorithm would look like the following:\n",
    "\n",
    "1. Create a new graph, the vertices are valid positions in the maze. Each vertex has the form $(i, j)$.\n",
    "    - Each vertex would contain the four cardinal points (expressed as nodes as well), with edge weights like the following:\n",
    "        - 1 for going forward\n",
    "        - 2 for going to the left of the node\n",
    "        - 3 for going to the right\n",
    "        - 4 or 6 for U-turning (this depends on wether two lefts or two rights would be valid).\n",
    "    - Each vertex would be connected to its adjacent neighbours via its cardinal points. A node to the left would be connected via the left for example.\n",
    "\n",
    "2. Initialise a 2D array to identify the minimum cost to reach $(i, j)$. Let's call this array $D$. Set the cost $D[1][1] = 0$ because this is our starting point. The others would be set to infinity or a very large number. $D[n][n]$ represents the minimum cost for the vehicle to get to $(n, n)$.\n",
    "3. Initialise another 2D array that keeps track of the nodes that are traversed to find the shortest path.\n",
    "4. Run Dijkstra's Shortest Path Algorithm to find the minimum path from $(1, 1)$ to $(n, n)$. Our array keeps track of the nodes that need to be traversed to obtained the shortest path at each step, so the this array will get updated. \n",
    "5. Recover the solution from our array by revealing the shortest path to get to $(n, n)$.\n",
    "The solution recovery for this algorithm is similar to our dynamic programming walkthrough, as it contains a record of the shortest path to get to each node. \n",
    "\n",
    "The running time of our algorithm would be of $\\Theta(N^4)$. This algorithm is rather slow, taking into account the creation of the graph ($\\Theta(N^2)$), running Dijkstra's Shortest Path Algorithm on each node, and recovering the solution.\n"
   ]
  },
  {
   "cell_type": "markdown",
   "metadata": {},
   "source": [
    "----"
   ]
  },
  {
   "cell_type": "markdown",
   "metadata": {},
   "source": [
    "## Testing your solutions -- Do not edit code beyond this point"
   ]
  },
  {
   "cell_type": "code",
   "execution_count": null,
   "metadata": {},
   "outputs": [],
   "source": []
  }
 ],
 "metadata": {
  "kernelspec": {
   "display_name": "Python 3 (ipykernel)",
   "language": "python",
   "name": "python3"
  },
  "language_info": {
   "codemirror_mode": {
    "name": "ipython",
    "version": 3
   },
   "file_extension": ".py",
   "mimetype": "text/x-python",
   "name": "python",
   "nbconvert_exporter": "python",
   "pygments_lexer": "ipython3",
   "version": "3.11.3"
  }
 },
 "nbformat": 4,
 "nbformat_minor": 4
}
