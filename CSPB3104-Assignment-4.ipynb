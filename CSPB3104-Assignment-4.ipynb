{
 "cells": [
  {
   "cell_type": "markdown",
   "metadata": {
    "deletable": false,
    "editable": false,
    "nbgrader": {
     "checksum": "6f67ee2b1e65e1f08882d5c311a652b5",
     "grade": false,
     "grade_id": "cell-cc92243d53530a68",
     "locked": true,
     "schema_version": 1,
     "solution": false
    }
   },
   "source": [
    "# CSPB 3104 Assignment 4:"
   ]
  },
  {
   "cell_type": "markdown",
   "metadata": {
    "deletable": false,
    "editable": false,
    "nbgrader": {
     "checksum": "393de84110c62844ccd1caec4398ed3c",
     "grade": false,
     "grade_id": "cell-d39a5349c12a82ad",
     "locked": true,
     "schema_version": 1,
     "solution": false
    }
   },
   "source": [
    "***\n",
    "# Instructions\n",
    "\n",
    "This assignment is to be completed as a python3 notebook.  When you upload, please upload the completed notebook (ipynb file).\n",
    "\n",
    "The questions  provided  below will ask you to either write code or \n",
    "write answers in the form of markdown.\n",
    "\n",
    " Markdown syntax guide is here: [click here](https://github.com/adam-p/markdown-here/wiki/Markdown-Cheatsheet)\n",
    "\n",
    "Using markdown you can typeset formulae using latex.\n",
    "This way you can write nice readable answers with formulae like thus:\n",
    "\n",
    "The algorithm runs in time $\\Theta\\left(n^{2.1\\log_2(\\log_2( n \\log^*(n)))}\\right)$, \n",
    "where $\\log^*(n)$ is the inverse _Ackerman_ function.\n",
    "\n",
    "__Double click anywhere on this box to find out how your instructor typeset it. Press Shift+Enter to go back.__\n",
    "\n",
    "***"
   ]
  },
  {
   "cell_type": "markdown",
   "metadata": {
    "deletable": false,
    "editable": false,
    "nbgrader": {
     "checksum": "871eb541c1d418aa4f1ca4c48aa520fc",
     "grade": false,
     "grade_id": "cell-b993b6aab5013b9e",
     "locked": true,
     "schema_version": 1,
     "solution": false
    }
   },
   "source": [
    "## Question 1\n",
    "\n",
    "\n",
    "\n",
    " Your professor has the brilliant idea of using heaps to select the pivot in the quicksort algorithm as follows:\n",
    "   - Heapify the array $a$.\n",
    "   - Choose a leaf element at random  (i.e, an element in $A[\\lceil \\frac{n}{2} \\rceil ] , \\ldots, A[n]$ ) and use it as a pivot.\n",
    "   - Apply Lomuto's partitioning. \n",
    "\n",
    " If this scheme is used in quicksort, what is the __worst case__ complexity of the resulting algorithm?\n",
    "\n",
    "\n",
    "\n",
    "\n",
    "\n"
   ]
  },
  {
   "cell_type": "markdown",
   "metadata": {
    "deletable": false,
    "nbgrader": {
     "checksum": "7a0d1bd1b9396d994f9b44351f006422",
     "grade": true,
     "grade_id": "cell-500eb5d207ef0ea0",
     "locked": false,
     "points": 10,
     "schema_version": 1,
     "solution": true
    }
   },
   "source": [
    "The worst case complexity for heapifying an array is $O(n)$. Choosing a random leaf element would be equivalent to doing $O(1)$, which is a constant operation. For Lomuto's Partitioning, the worst case comes when the array is already sorted or the pivot is the largest element. This complexity is of $O(n^2)$. So quicksorting this array would have a worst case time complexity of $O(n^3)$"
   ]
  },
  {
   "cell_type": "markdown",
   "metadata": {
    "deletable": false,
    "editable": false,
    "nbgrader": {
     "checksum": "4710b959a700f0ccd99a5d7f48b222dd",
     "grade": false,
     "grade_id": "cell-66179a16152d8275",
     "locked": true,
     "schema_version": 1,
     "solution": false
    }
   },
   "source": [
    "---\n",
    "## Question 2a: Move Negatives To Left\n",
    "\n",
    " You are given an input array $a$ with negative and positive numbers. Write an algorithm that partitions the array so that the negative numbers are moved to the left hand side and positive numbers to the right hand side. However, the relative ordering between the negative numbers should not be altered. However you may alter the ordering amongst the positive numbers.\n",
    "\n",
    "\n",
    "\n",
    " Input: array a with positive and negative numbers. Size = n. \n",
    "\n",
    " Output: partitioned array a, index j such that $a[0], \\ldots, a[j-1]$ are negative and $a[j], \\ldots, a[n-1]$ are positive.\n",
    "\n",
    " Note since arrays are passed by reference in python, you just need to return j\n",
    "\n",
    " Constraints: must be done in place. Relative ordering between negative elements unchanged.\n",
    "\n",
    " Example: \n",
    "\n",
    " Input array a = [-2, 3, -1, 4, 5, -3, -4, -1, -2, 5]\n",
    "\n",
    " Output array a = [-2, -1, -3, -4, -1, -2, 3, 5, 5, 4]\n",
    "\n",
    " Output       j = 6\n"
   ]
  },
  {
   "cell_type": "code",
   "execution_count": 63,
   "metadata": {
    "deletable": false,
    "nbgrader": {
     "checksum": "d6fae7679d26ede07ed374a9d2c94599",
     "grade": false,
     "grade_id": "cell-4ba49cfbe820eb9b",
     "locked": false,
     "schema_version": 1,
     "solution": true
    },
    "tags": []
   },
   "outputs": [],
   "source": [
    "def move_negatives_to_left(a):\n",
    "    j = neg_rec(a, 0, -1)\n",
    "    return j\n",
    "\n",
    "def neg_rec(a, i, j):\n",
    "    if i == len(a):\n",
    "        return j + 1\n",
    "    else:\n",
    "        if a[i] < 0:\n",
    "            j += 1\n",
    "            swap(a, i, j)\n",
    "        return neg_rec(a, i+1, j)\n",
    "\n",
    "def swap(A, i, j):\n",
    "    temp = A[i]\n",
    "    A[i] = A[j]\n",
    "    A[j] = temp\n",
    "\n",
    "# arr = [-2, 3, -1, 4, 5, -3, -4, -1, -2, 5]\n",
    "# print(arr)\n",
    "# move_negatives_to_left(arr)\n",
    "# print(arr)\n"
   ]
  },
  {
   "cell_type": "markdown",
   "metadata": {
    "deletable": false,
    "editable": false,
    "nbgrader": {
     "checksum": "150d909c5bc1552a87cd78f810c7dba1",
     "grade": false,
     "grade_id": "cell-2fbd90a2db572ce6",
     "locked": true,
     "schema_version": 1,
     "solution": false
    }
   },
   "source": [
    "__2(b):__ Give the running time of your solution and briefly explain the logic by clearly writing down\n",
    "the loop invariants that hold during the operation of your algorithm and why these invariants lead to the correct result."
   ]
  },
  {
   "cell_type": "markdown",
   "metadata": {
    "deletable": false,
    "nbgrader": {
     "checksum": "59b9d35f8704d91a3470203654397281",
     "grade": true,
     "grade_id": "cell-b02c0f60558db791",
     "locked": false,
     "points": 10,
     "schema_version": 1,
     "solution": true
    }
   },
   "source": [
    "The running time for this solution is of linear time $\\Theta(n)$ as the algorithm only contains one recursive call and swapping operations are of constant time. j+1 represents the index of the last negative number identified in the array.\n",
    "\n",
    "Loop Invariants:\n",
    "- The position of j indicates the position of the final negative number in the iteration. So from 0 to j, all the numbers are negative. The left of the array only contains the negative numbers.\n",
    "- From j+1 to i-1, all the elements are positive, this is the right side of the array (the left contains all of the negative numbers)\n",
    "- The numbers from i to n-1 have not been iterated through; they could go to the right or to the left of the array.\n",
    "\n",
    "The invariants lead to the correct result because the position of the negative numbers is preserved by j. This ensures every negative number is in the expected position. The order for positive numbers does not matter, but using j to swap the numbers to the desired spot yields the ordered array. The base case ensures every number has been checked."
   ]
  },
  {
   "cell_type": "markdown",
   "metadata": {
    "deletable": false,
    "editable": false,
    "nbgrader": {
     "checksum": "d72dd1ee9cd4118e152d6bee038b8fb1",
     "grade": false,
     "grade_id": "cell-a8636f88e42a5631",
     "locked": true,
     "schema_version": 1,
     "solution": false
    }
   },
   "source": [
    "---\n",
    "## Question 3: Median of Median Selection.\n",
    "\n",
    " In the class, we analyzed an approach for pivot selection that used median of 5 medians.  Here we explore what happens\n",
    "with median of 3 medians.\n",
    "\n",
    " 1. Divide the input array $a$ of size n into $\\frac{n}{3}$ groups of $3$ elements each.\n",
    " 2. Calculate the median of each group of 3 to create a new array $\\hat{a}$ of these medians.\n",
    " 3. Recursively apply the algorithm to find the median of $\\hat{a}$. Let it be $m$.\n",
    " 4. Use $m$ as the pivot element to partition the original array $a$.\n",
    "\n",
    "__3(a)__ How many elements in the array $a$ are guaranteed to be less than the chosen pivot $m$? How many are guaranteed to be greater? Assume all elements in the array $a$ are distinct.\n",
    "\n",
    "\n",
    "\n",
    "\n",
    "\n",
    "\n",
    "\n",
    "\n",
    "\n"
   ]
  },
  {
   "cell_type": "markdown",
   "metadata": {
    "deletable": false,
    "nbgrader": {
     "checksum": "2a78c83e499a1f89c214f7cfee63d608",
     "grade": true,
     "grade_id": "cell-21d980b003edcd7a",
     "locked": false,
     "points": 10,
     "schema_version": 1,
     "solution": true
    }
   },
   "source": [
    "To determine the amount of elements that are guaranteed to be less and the amount of elements that are guaranteed to be greater than m, the first step (of dividing the array in $\\frac{n}{3}$) needs to be put in a sorted order:\n",
    "\n",
    "Doing so makes the array look like this: $M = [M_1, M_2, M(n/6), M_4, M(n/3)]$\n",
    "\n",
    "Around each median, there is group of 3 elements. Meaning $M_1$ has a number above it that is of a larger value and a number below it that is of a smaller value. This is true for each of the medians. In the upper right block starting from $M_1$ and going up to the largest number of the $M_1$ group and stopping at $M(n/6)$, we have guaranteed that each of these numbers are smaller than the median. This means that The median of medians, called $x$, has $2 * \\frac{n}{6} = \\frac{n}{3}$ numbers that are smaller than x. There are about $\\frac{n}{3}$ that are going to be smaller than the median of medians $x$. The same is true for the other side. Counting the amount of elements that are greater than $x$ means counting the group of elements to the right side of the median. Starting from $M_4$ and going through a number below $M(n/3)$, means that there are also $2 * \\frac{n}{6} = \\frac{n}{3}$ elements that are larger than the median of medians x.\n",
    "\n",
    "So, there are $\\frac{n}{3}$ elements that are guaranteed to be less than the chosen pivot $m$ and $\\frac{n}{3}$ elements that are guaranteed to be greater than the chosen pivot $m$."
   ]
  },
  {
   "cell_type": "markdown",
   "metadata": {
    "deletable": false,
    "editable": false,
    "nbgrader": {
     "checksum": "66052be2bee3b65fe2993ce8c7b2de0a",
     "grade": false,
     "grade_id": "cell-1807a9189d3a49c9",
     "locked": true,
     "schema_version": 1,
     "solution": false
    }
   },
   "source": [
    " __3(b)__ If $m$ computed using the median of 3 medians were used to partition the array $a$ for a *quickselect* algorithm that is used to find the median of an array $a$, write down the recurrence for $T(n)$, the time taken to find the median of an array of size $n$ using the quick select algorithm with the median of 3 medians trick.\n"
   ]
  },
  {
   "cell_type": "markdown",
   "metadata": {
    "deletable": false,
    "nbgrader": {
     "checksum": "7ab57e89295273cbfa3b7520d5bde5ce",
     "grade": true,
     "grade_id": "cell-c816d4e898ab76d5",
     "locked": false,
     "points": 10,
     "schema_version": 1,
     "solution": true
    }
   },
   "source": [
    "We already know that at least $\\frac{2n}{3}$ elements are smaller than the pivot element, the same case goes from larger. This means that the Time Recurrence will be written as:\n",
    "\n",
    "T(n) = $\\Theta(n) + T(\\frac{n}{3}) + C_n + T(\\frac{2n}{3})$\n",
    "\n",
    "Where:\n",
    "- $\\Theta(n)$ is the time taken to select the pivot element\n",
    "- $T(\\frac{n}{3})$ is the time to calculate the median on an array of size $\\frac{n}{3}$\n",
    "- $C_n$ is the time taken to partition\n",
    "- $T(\\frac{2n}{3})$ is the time taken to find the median recursively. In the worst case, there will be $\\frac{2n}{3}$ elements on one side, so $\\frac{2n}{3}$ is used."
   ]
  },
  {
   "cell_type": "markdown",
   "metadata": {
    "deletable": false,
    "editable": false,
    "nbgrader": {
     "checksum": "4e2e52cb59d005186f422b8a4d67a3b5",
     "grade": false,
     "grade_id": "cell-9c62273ea26b5433",
     "locked": true,
     "schema_version": 1,
     "solution": false
    }
   },
   "source": [
    " __3(c)__ The celebrated \"Akra-Bazzi\" method shows that the recurrence $S(n) = S(\\alpha n) + S( (1-\\alpha)n) + \\Theta(n)$ with base case $S(1) = \\Theta(1)$ has solution $S(n) = \\Theta(n \\log (n) )$. Use this to show that median of 3 medians trick fails to achieve a linear time algorithm for quickselect. (**Note** However, as we saw in the lecture, median of 5 medians works to provide $\\Theta(n)$ deterministic selection algorithm or $\\Theta(n \\log(n))$ quicksort that does not depend on randomization in any way)."
   ]
  },
  {
   "cell_type": "markdown",
   "metadata": {
    "deletable": false,
    "nbgrader": {
     "checksum": "0565dac1fed9be779e84506551ef6d79",
     "grade": true,
     "grade_id": "cell-d3ef115f191421d9",
     "locked": false,
     "points": 10,
     "schema_version": 1,
     "solution": true
    }
   },
   "source": [
    "For using the \"Akra-Bazzi\" method, we have $\\alpha = \\frac{1}{3}$ and $\\beta = \\frac{2}{3}$. The Akra-Bazzi method states that if $\\alpha + \\beta < 1$, then $S(n) = \\Theta(n)$. Given that $\\alpha + \\beta = \\frac{1}{3} + \\frac{2}{3} = 1$, then it is not true that the median of 3 medians trick runs in linear time."
   ]
  },
  {
   "cell_type": "markdown",
   "metadata": {
    "deletable": false,
    "editable": false,
    "nbgrader": {
     "checksum": "9dee874f33e77c51b0f5f520a6f06d74",
     "grade": false,
     "grade_id": "cell-82b69a9b275bc571",
     "locked": true,
     "schema_version": 1,
     "solution": false
    }
   },
   "source": [
    "---\n",
    "\n",
    "## Question 4: Detective Work on Pre-Order Traversal of a BST\n",
    "\n",
    "\n",
    " An BST with integer keys in each node is traversed using pre-order traversal and the keys in each node are presented in the order\n",
    "they are visited as an array $a$ of $n$ elements -- $a: [a[1], \\ldots, a[n]]$. Assume that the elements of this array are all distinct."
   ]
  },
  {
   "cell_type": "markdown",
   "metadata": {
    "deletable": false,
    "editable": false,
    "nbgrader": {
     "checksum": "4bcde34c8f42a69a888200e83f75f005",
     "grade": false,
     "grade_id": "cell-0e7a2a8bec29c68a",
     "locked": true,
     "schema_version": 1,
     "solution": false
    }
   },
   "source": [
    "\n",
    "\n",
    " __4(a)__ Describe an algorithm to reconstruct the tree in pseudocode. What is the complexity of your algorithm? \n",
    " \n",
    " **Hint:** First identify the root of the tree. Next, how do we identify which elements of the array belong to the left subtree of the root, and which elements to the right subtree? Once that is done, can you recursively perform the reconstruction.\n",
    "\n",
    " Note that you will learn how to build trees properly in your CSPB 2270 class. Here, assume a pseudocode function called `build_tree(n, T1, T2)` that build a tree with root node n and subtrees T1, T2 and returns it.\n",
    "\n"
   ]
  },
  {
   "cell_type": "markdown",
   "metadata": {
    "deletable": false,
    "nbgrader": {
     "checksum": "0bd04cad356efae0bef0cf082303eac5",
     "grade": true,
     "grade_id": "cell-eea75f81136de1cd",
     "locked": false,
     "points": 15,
     "schema_version": 1,
     "solution": true
    }
   },
   "source": [
    "``` \n",
    "construct_preorder(a):\n",
    "    if length == 1:\n",
    "        return\n",
    "    root := a[1]\n",
    "    T1 := [] // left subtree\n",
    "    T2 := [] // right subtree\n",
    "    for idx = 1 to length\n",
    "        if root < a[idx]\n",
    "            T2.append(a[idx]) // apppend to right because it is bigger\n",
    "        else:\n",
    "            T1.append(a[idx]) // append to left because it is smaller\n",
    "    left := construct_preorder(T1)\n",
    "    right := construct_preorder(T2)\n",
    "    \n",
    "    build_tree(n, left, right)\n",
    "    \n",
    "\n",
    "```\n",
    "\n",
    "As the left and right subtrees are BSTs themselves, the function needs to be called recursively for the left and right subtree, to achieve the pre-order convention. As the right subtree contains only the numbers bigger than the root, the code iterates through the list to check: if the number is smaller than the root, it goes to the left subtree, if it is not, then to the right subtree.\n",
    "\n",
    "The time complexity of this algorithm is of $\\Theta(n^2)$ , as the algorithm contains recursive calls after a for loop, doing $n^2$ operations."
   ]
  },
  {
   "cell_type": "markdown",
   "metadata": {
    "deletable": false,
    "editable": false,
    "nbgrader": {
     "checksum": "0a510ab7b91f4da740a1ffbc50bfc2c5",
     "grade": false,
     "grade_id": "cell-f2f0c7b193b4a42e",
     "locked": true,
     "schema_version": 1,
     "solution": false
    }
   },
   "source": [
    "\n",
    " __4(b)__ Describe an algorithm that converts the array obtained using the pre-order traversal of a BST into an array representing the post-order traversal without reconstructing the tree. **Hint:** Use the previous part but now instead of reconstructing the tree, think of how pre and post order traversals differ."
   ]
  },
  {
   "cell_type": "markdown",
   "metadata": {
    "deletable": false,
    "nbgrader": {
     "checksum": "183dd9f6c103591df6f909fdaf5ab80a",
     "grade": true,
     "grade_id": "cell-e9b84a8c3b425b2a",
     "locked": false,
     "points": 15,
     "schema_version": 1,
     "solution": true
    }
   },
   "source": [
    "The difference between a post-order and a pre-order is that the post-order has the order of: left, right, node.\n",
    "\n",
    "1) Obtain the pre-order traversal array from the past example\n",
    "2) Create an empty array array to store the post-order output\n",
    "3) The first element of the array is the root, so create a root variable with the first index.\n",
    "4) Given that all the elements to the left of the BST are less than the root, find the index of the one that is greater than the root. That is the right subtree.\n",
    "5) Left subtree: elements in the array that are less than the root (index goes from start to the index of the right subtree found in step 4). Right subtree: index found on step 4 to final index of array.\n",
    "6) Call the function on the left subtree (recursive step).\n",
    "7) Call the function on the right subtree (recursive step). Calling this on both subtrees generates the post-order traversal for each.\n",
    "8) Join the root with the resulting arrays into the post-order array."
   ]
  },
  {
   "cell_type": "markdown",
   "metadata": {
    "deletable": false,
    "editable": false,
    "nbgrader": {
     "checksum": "2ef385587fe8ab0ff5a10fdd7112e9d5",
     "grade": false,
     "grade_id": "cell-2aca70a42a7c6559",
     "locked": true,
     "schema_version": 1,
     "solution": false
    }
   },
   "source": [
    "## Testing your solutions -- Do not edit code beyond this point"
   ]
  },
  {
   "cell_type": "code",
   "execution_count": 64,
   "metadata": {
    "deletable": false,
    "editable": false,
    "nbgrader": {
     "checksum": "b0eb55ccce4c3b469caff6c156319267",
     "grade": true,
     "grade_id": "cell-0daf295a92acfcd1",
     "locked": true,
     "points": 20,
     "schema_version": 1,
     "solution": false
    },
    "tags": []
   },
   "outputs": [
    {
     "name": "stdout",
     "output_type": "stream",
     "text": [
      "Num Tests =  10000  Passed =  10000\n"
     ]
    }
   ],
   "source": [
    "import random\n",
    "\n",
    "def unequalArrays(a, b):\n",
    "    n = min(len(a), len(b))\n",
    "    for j in range(n):\n",
    "        if a[j] != b[j]:\n",
    "            return True\n",
    "    if len(a) != len(b):\n",
    "        return True\n",
    "    return False\n",
    "\n",
    "def test_move_negatives(a):\n",
    "    b = [e for e in a if e < 0]\n",
    "    j0 = len(b)\n",
    "    j = move_negatives_to_left(a)\n",
    "    res = True\n",
    "    if j != j0:\n",
    "        print('Failed: input =', a)\n",
    "        print('Failed: expected value j = ', j0, ' Your code obtained j = ', j)\n",
    "        res = False\n",
    "    if unequalArrays(b, a[0:j]):\n",
    "        if res:\n",
    "            print('Failed: input =', a)\n",
    "        print('Failed: the LHS portion should be = ', b)\n",
    "        print('\\t Your code returned: ', a[0:j])\n",
    "        res = False\n",
    "    return res\n",
    "\n",
    "def createRandomArray(n):\n",
    "    a = []\n",
    "    for i in range(n):\n",
    "        j = random.randint(-1000,1000)\n",
    "        if j == 0: \n",
    "            j = 1\n",
    "        a.append(j)\n",
    "    return a\n",
    "\n",
    "nPassed = 0\n",
    "nTests = 10000\n",
    "for i in range(0, nTests):\n",
    "    a = createRandomArray(9)\n",
    "    res = test_move_negatives(a)\n",
    "    if res: \n",
    "        nPassed = nPassed + 1\n",
    "print('Num Tests = ', nTests, ' Passed = ', nPassed)"
   ]
  },
  {
   "cell_type": "code",
   "execution_count": null,
   "metadata": {
    "tags": []
   },
   "outputs": [],
   "source": [
    "\n",
    "    \n",
    "    "
   ]
  },
  {
   "cell_type": "code",
   "execution_count": null,
   "metadata": {},
   "outputs": [],
   "source": []
  }
 ],
 "metadata": {
  "kernelspec": {
   "display_name": "Python 3 (ipykernel)",
   "language": "python",
   "name": "python3"
  },
  "language_info": {
   "codemirror_mode": {
    "name": "ipython",
    "version": 3
   },
   "file_extension": ".py",
   "mimetype": "text/x-python",
   "name": "python",
   "nbconvert_exporter": "python",
   "pygments_lexer": "ipython3",
   "version": "3.11.3"
  }
 },
 "nbformat": 4,
 "nbformat_minor": 4
}
