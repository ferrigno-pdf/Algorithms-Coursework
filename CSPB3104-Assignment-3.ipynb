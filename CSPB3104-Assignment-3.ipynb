{
 "cells": [
  {
   "cell_type": "markdown",
   "metadata": {
    "deletable": false,
    "editable": false,
    "nbgrader": {
     "checksum": "9d050f4ea2fe4ec257d2203c783e5325",
     "grade": false,
     "grade_id": "cell-0b121a73255bed02",
     "locked": true,
     "schema_version": 1,
     "solution": false
    }
   },
   "source": [
    "# CSPB 3104 Assignment 3:"
   ]
  },
  {
   "cell_type": "markdown",
   "metadata": {
    "deletable": false,
    "editable": false,
    "nbgrader": {
     "checksum": "452612bc0436a4f1249ba98d43d138be",
     "grade": false,
     "grade_id": "cell-46512401074a6917",
     "locked": true,
     "schema_version": 1,
     "solution": false
    }
   },
   "source": [
    "***\n",
    "# Instructions\n",
    "\n",
    "This assignment is to be completed as a python3 notebook.\n",
    "\n",
    "The questions  provided  below will ask you to either write code or \n",
    "write answers in the form of markdown.\n",
    "\n",
    " Markdown syntax guide is here: [click here](https://github.com/adam-p/markdown-here/wiki/Markdown-Cheatsheet)\n",
    "\n",
    "Using markdown you can typeset formulae using latex.\n",
    "This way you can write nice readable answers with formulae like thus:\n",
    "\n",
    "The algorithm runs in time $\\Theta\\left(n^{2.1\\log_2(\\log_2( n \\log^*(n)))}\\right)$, \n",
    "where $\\log^*(n)$ is the inverse _Ackerman_ function.\n",
    "\n",
    "__Double click anywhere on this box to find out how your instructor typeset it. Press Shift+Enter to go back.__\n",
    "\n",
    "***"
   ]
  },
  {
   "cell_type": "markdown",
   "metadata": {
    "deletable": false,
    "editable": false,
    "nbgrader": {
     "checksum": "73e1fbc3b5c7157f3bef20465999b033",
     "grade": false,
     "grade_id": "cell-1ccdfb3a5473d2c9",
     "locked": true,
     "schema_version": 1,
     "solution": false
    }
   },
   "source": [
    "## Question 1\n",
    "\n",
    "Answer the following questions about heaps.\n",
    "\n",
    "__1(a)__  Write down an algorithm to find the third smallest element in a minheap with more than $3$ elements. You may write pseudocode or english description of the algorithm's steps. What is the running time complexity on a heap of size $n$? * Assume all elements in the heap are distinct *\n",
    "\n",
    "\n",
    "\n",
    "\n"
   ]
  },
  {
   "cell_type": "markdown",
   "metadata": {
    "deletable": false,
    "nbgrader": {
     "checksum": "2a58b73e05a482713e5ec701fa85e11b",
     "grade": true,
     "grade_id": "cell-44e21cce771fd831",
     "locked": false,
     "points": 20,
     "schema_version": 1,
     "solution": true
    }
   },
   "source": [
    "The three smallest elements in a minheap are right next to each other. Given that a minheap's smallest element is the first one, the next thing to do is to obtain the second smallest element (one of the root's children). After this, the third smallest element will be decided between the second smallest element's children or the other root's child. Here is the pseudocode for locating the third smallest element:\n",
    "```\n",
    "findThirdSmallest(A):\n",
    "    heap_len = len(A)\n",
    "    if A[1] > A[2]:\n",
    "        if A[6] exists:\n",
    "            ret min(A[1], A[5], A[6])\n",
    "        elif A[5] exists:\n",
    "            ret min(A[1], A[5])\n",
    "        else:\n",
    "            ret A[1]\n",
    "    else:\n",
    "        if A[4] exists:\n",
    "            ret min(A[2], A[3], A[4])\n",
    "        else:\n",
    "            ret min(A[2], A[3])\n",
    "```\n",
    "\n",
    "The third smallest element will always be located on the third level maximum (children of the root's children). Checking between these values is only what is needed. The pseudocode checks wether the different indeces are out of bounds and does the comparisons accordingly.\n",
    "\n",
    "Its complexity is of $\\theta(1)$ as all of the operations are constant and there is neither for loops nor recursion involved.\n",
    "\n",
    "    "
   ]
  },
  {
   "cell_type": "markdown",
   "metadata": {
    "deletable": false,
    "editable": false,
    "nbgrader": {
     "checksum": "777eec29ec9c92175a07e6dd97514191",
     "grade": false,
     "grade_id": "cell-382bd790c682ff35",
     "locked": true,
     "schema_version": 1,
     "solution": false
    }
   },
   "source": [
    "__1(b)__ We wish to find the largest element in a min-heap represented by array $A[1], \\ldots, A[n]$. Show using a series of examples for $n=7$ that any element starting from $A[\\lceil{\\frac{n}{2}}\\rceil], \\ldots, A[n]$ can be the largest element. Your answer should be in the form of 4 min heaps."
   ]
  },
  {
   "cell_type": "markdown",
   "metadata": {
    "deletable": false,
    "nbgrader": {
     "checksum": "405bae515ba31f6e3239219bfb1a6cdf",
     "grade": true,
     "grade_id": "cell-b135c81ce6b4d8b3",
     "locked": false,
     "points": 20,
     "schema_version": 1,
     "solution": true
    }
   },
   "source": [
    "As stated before, a min heap's smalllest element is located at the root, or A[1] (the first element in an array).\n",
    "\n",
    "To prove this, it will be shown by using 4 min heaps as examples.\n",
    "\n",
    "1) The first example involves a heap with 7 elements. To simplify, all of the heaps will be shown in the form of an array (heapified array).\n",
    "\n",
    "A = [2,3,5,6,7,8,9]\n",
    "\n",
    "The condition is true for the first heap, as the largest element (9) is located at the end of the heap, or at A[7]. This satisfies the condition that the largest element of a heap is located between $A[\\lceil\\frac{7}{2}\\rceil] - A[7]$.\n",
    "\n",
    "2) The second example involves a heap with 8 elements.\n",
    "\n",
    "A = [2,5,4,7,8,12,7,9]\n",
    "\n",
    "The condition is true for the second heap as well. The largest element (12) is located at the 6th position of the heap, therefore satisfying the condition that the largest value in this heap lies between $A[\\lceil\\frac{8}{2}\\rceil] - A[8]$.\n",
    "\n",
    "3) This third heap has 6 elements.\n",
    "\n",
    "A = [8, 10, 17, 20, 24, 23]\n",
    "\n",
    "The condition is also true in this case, as the largest element (24) lies in the 5th position of the array. The condition is satisfied once again, as $A[\\lceil\\frac{6}{2}\\rceil] - A[6]$\n",
    "\n",
    "4) The final heap has 13 elements.\n",
    "\n",
    "A = [11, 14, 21, 22, 33, 16, 35, 43, 49, 36, 76, 74, 66]\n",
    "\n",
    "The condition also holds true in this case. 76, the largest element, is located at the 11th position of the array. The condition proves once again to be true: $A[\\lceil\\frac{13}{2}\\rceil] - A[13]$\n",
    "\n",
    "This shows that the condition shows true for any heapified array: its largest number lies between: $A[\\lceil\\frac{n}{2}\\rceil] - A[n]$\n"
   ]
  },
  {
   "cell_type": "markdown",
   "metadata": {
    "deletable": false,
    "editable": false,
    "nbgrader": {
     "checksum": "afdea52813d46083340cc7197a734959",
     "grade": false,
     "grade_id": "cell-4672753a75a929f2",
     "locked": true,
     "schema_version": 1,
     "solution": false
    }
   },
   "source": [
    "***\n",
    "## Question 2\n",
    "\n",
    "Suppose you have an array __A__ of *n* distinct elements.\n",
    "\n",
    "The following pseudocode finds the k biggest values of __A__:\n",
    "\n",
    "```\n",
    "Biggest(A, k): \\\\returns an array of the k biggest values of A\n",
    "        mergesort(A)  \n",
    "        return A[n-k, n]\n",
    " ```\n",
    " \n",
    "__2(a)__ What is the complexity of the above algorithm and why?\n",
    "\n"
   ]
  },
  {
   "cell_type": "markdown",
   "metadata": {
    "deletable": false,
    "nbgrader": {
     "checksum": "430a3d8bbf4fc986718a97ee29fc7251",
     "grade": true,
     "grade_id": "cell-1575a845d33f4f18",
     "locked": false,
     "points": 15,
     "schema_version": 1,
     "solution": true
    }
   },
   "source": [
    "The complexity of this array is $\\Theta(n log(n))$. The only non constant operation done is the mergesort, which takes $\\Theta(n log(n))$ the other operation (selecting the k biggest elements, which is selecting the array from k to n) is constant."
   ]
  },
  {
   "cell_type": "markdown",
   "metadata": {
    "deletable": false,
    "editable": false,
    "nbgrader": {
     "checksum": "11517f84d1fc563ae06775cf8e9bed77",
     "grade": false,
     "grade_id": "cell-8d54d1cf5d00c3e1",
     "locked": true,
     "schema_version": 1,
     "solution": false
    }
   },
   "source": [
    "__2(b)__ Now suppose that the order of the array was important.  Design and implement an algorithm that returns an array of the k largest elements of __A__ in their original order, and it should run in $\\Theta(nk)$ time.\n",
    "\n",
    "For example, BiggestInOrder([0,5,1,3,4], 3) should return [5,3,4]."
   ]
  },
  {
   "cell_type": "code",
   "execution_count": 47,
   "metadata": {
    "deletable": false,
    "nbgrader": {
     "checksum": "ce703e2dbcacac7bdea744bdfe402f42",
     "grade": false,
     "grade_id": "cell-86e5b5d458fdfe8a",
     "locked": false,
     "schema_version": 1,
     "solution": true
    },
    "tags": []
   },
   "outputs": [],
   "source": [
    "def BiggestInOrder(A, k):\n",
    "    count = 0\n",
    "    while count < len(A) - k:\n",
    "        min_val = A[0]\n",
    "        min_idx = 0\n",
    "        for i in range(len(A)):\n",
    "            if A[i] < min_val:\n",
    "                min_val = A[i]\n",
    "                min_idx = i\n",
    "        A[min_idx] = 10000000000000\n",
    "        count += 1\n",
    "    final = list(filter(lambda x: x != 10000000000000, A))\n",
    "    \n",
    "    return final\n",
    "        \n",
    "    \n",
    "        \n",
    "\n",
    "# print(BiggestInOrder([0,5,1,3,4], 3))"
   ]
  },
  {
   "cell_type": "markdown",
   "metadata": {
    "deletable": false,
    "editable": false,
    "nbgrader": {
     "checksum": "c3a70315d4af5fd2730f9742ca62b2dc",
     "grade": false,
     "grade_id": "cell-a97e8fabdb7f9862",
     "locked": true,
     "schema_version": 1,
     "solution": false
    }
   },
   "source": [
    "__2(c)__ If we don't care about the original ordering, then we can use a heap to design an algorithm that runs faster than the one in part (b).  Design and implement an algorithm that returns an array of the k largest elements of __A__ using a heap."
   ]
  },
  {
   "cell_type": "code",
   "execution_count": 67,
   "metadata": {
    "deletable": false,
    "nbgrader": {
     "checksum": "ab624a8a786a226b7a5c1db9114d7861",
     "grade": false,
     "grade_id": "cell-87b181f2bb909f14",
     "locked": false,
     "schema_version": 1,
     "solution": true
    },
    "tags": []
   },
   "outputs": [],
   "source": [
    "def BiggestOutOfOrder(A, k):\n",
    "    heapify_max(A)\n",
    "\n",
    "    final = []\n",
    "    for _ in range(k):\n",
    "        final.append(A[0])\n",
    "        delete(A,0)\n",
    "    return final\n",
    "\n",
    "def delete(A, j):\n",
    "    A[j] = A[-1]\n",
    "    A.pop()\n",
    "\n",
    "    bubble_up(A, j)\n",
    "    bubble_down(A, j)\n",
    "\n",
    "def heapify_max(A):\n",
    "    n = len(A)\n",
    "    for i in range(n // 2 - 1, -1, -1):\n",
    "        bubble_down(A, i)\n",
    "\n",
    "def bubble_down(A, j):\n",
    "    n = len(A)\n",
    "    while True:\n",
    "        left = 2 * j + 1\n",
    "        right = 2 * j + 2\n",
    "\n",
    "        if left >= n:\n",
    "            break\n",
    "\n",
    "        large = left\n",
    "        if right < n and A[right] > A[left]:\n",
    "            large = right\n",
    "\n",
    "        if A[j] >= A[large]:\n",
    "            break\n",
    "\n",
    "        swap(A, j, large)\n",
    "        j = large\n",
    "\n",
    "def bubble_up(A, i):\n",
    "    while i > 0:\n",
    "        parent = (i - 1) // 2\n",
    "\n",
    "        if A[i] <= A[parent]:\n",
    "            return\n",
    "\n",
    "        swap(A, i, parent)\n",
    "        i = parent\n",
    "        \n",
    "def swap(A, i, j):\n",
    "    temp = A[i]\n",
    "    A[i] = A[j]\n",
    "    A[j] = temp\n",
    "    \n",
    "    \n",
    "# A = [0,5,1,3,4]\n",
    "# B = BiggestOutOfOrder(A, 3)\n",
    "# print(B)"
   ]
  },
  {
   "cell_type": "markdown",
   "metadata": {
    "deletable": false,
    "editable": false,
    "nbgrader": {
     "checksum": "01842f0aca59b154b8c13927ecd8c034",
     "grade": false,
     "grade_id": "cell-999aec4713dd0723",
     "locked": true,
     "schema_version": 1,
     "solution": false
    }
   },
   "source": [
    "__2(d)__  What is the complexity of your algorithm for part (c)?"
   ]
  },
  {
   "cell_type": "markdown",
   "metadata": {
    "deletable": false,
    "nbgrader": {
     "checksum": "d4aca0fb5321791a5cb6a60f69794b68",
     "grade": true,
     "grade_id": "cell-d32a842a63f38af6",
     "locked": false,
     "points": 15,
     "schema_version": 1,
     "solution": true
    }
   },
   "source": [
    "The complexity for this algorithm is $\\Theta(k*log(n))$. The implementation uses a max heap, where the code to generate a min heap was adapted to a max heap. As the root is the maximum element, the code deletes the root k times. This leads a list with the kth biggest elements. The time complexity for a delete statement is $\\Theta(log(n))$, therefore the whole algorithm runs in $\\Theta(k * log(n))$ time."
   ]
  },
  {
   "cell_type": "markdown",
   "metadata": {
    "deletable": false,
    "editable": false,
    "nbgrader": {
     "checksum": "849d0c1a3727267d0bb2bd7df00d01e6",
     "grade": false,
     "grade_id": "cell-ea68d6420d3528fa",
     "locked": true,
     "schema_version": 1,
     "solution": false
    }
   },
   "source": [
    "---\n",
    "## Testing your solutions -- Do not edit code beyond this point"
   ]
  },
  {
   "cell_type": "code",
   "execution_count": 68,
   "metadata": {
    "deletable": false,
    "editable": false,
    "nbgrader": {
     "checksum": "589162e20d0b32513b6bcdf7d893003c",
     "grade": true,
     "grade_id": "cell-2b3c60ad9c7c88e4",
     "locked": true,
     "points": 15,
     "schema_version": 1,
     "solution": false
    },
    "tags": []
   },
   "outputs": [
    {
     "name": "stdout",
     "output_type": "stream",
     "text": [
      " num tests  =  10000\n",
      " num passed =  10000\n"
     ]
    }
   ],
   "source": [
    "from random import sample, randint\n",
    "def testBiggestInOrder(n_tests, test_size):\n",
    "    n_passed = 0\n",
    "    n_failed = 0\n",
    "    for i in range(0, n_tests):\n",
    "        a = sample( range(-10 * n_tests,  10 * n_tests ), test_size)\n",
    "        k = randint(1, len(a))\n",
    "        kbiggest = BiggestInOrder(a.copy(), k)\n",
    "        if len(kbiggest) != k:\n",
    "            if n_failed < 10:\n",
    "                print(' Code returns the wrong sized array!')\n",
    "            n_failed += 1\n",
    "            continue\n",
    "        if sorted(kbiggest) != sorted(a)[-k:]:\n",
    "            if n_failed < 10:\n",
    "                print(' Code did not return the ', k, ' biggest elements!')\n",
    "                print(' Code returned ', sorted(kbiggest), ' but we wanted ', sorted(a)[-k:], ' of ', a)\n",
    "            n_failed +=1\n",
    "            continue\n",
    "        currIndex = 0\n",
    "        inOrder = True\n",
    "        for j in range(0, len(kbiggest)):\n",
    "            for l in range(currIndex, len(a)):\n",
    "                if kbiggest[j] == a[l]:\n",
    "                    currIndex = l\n",
    "                    break\n",
    "                if l == len(a) - 1:\n",
    "                    inOrder = False\n",
    "        if inOrder == False:\n",
    "            if n_failed < 10:\n",
    "                print(' Code failed for input: ', a, 'returned : ', kbiggest, 'last correct index: ', currIndex)\n",
    "        else:\n",
    "            n_passed = n_passed + 1\n",
    "\n",
    "    return n_passed\n",
    "\n",
    "n_tests = 10000\n",
    "n_passed = testBiggestInOrder(10000, 10)\n",
    "print(' num tests  = ', n_tests)\n",
    "print(' num passed = ', n_passed)"
   ]
  },
  {
   "cell_type": "code",
   "execution_count": 69,
   "metadata": {
    "deletable": false,
    "editable": false,
    "nbgrader": {
     "checksum": "24fd18759631d9f362a938fc37899124",
     "grade": true,
     "grade_id": "cell-591c09b8573a47b0",
     "locked": true,
     "points": 15,
     "schema_version": 1,
     "solution": false
    },
    "tags": []
   },
   "outputs": [
    {
     "name": "stdout",
     "output_type": "stream",
     "text": [
      " num tests  =  10000\n",
      " num passed =  10000\n"
     ]
    }
   ],
   "source": [
    "from random import sample, randint\n",
    "def testBiggestOutOfOrder(n_tests, test_size):\n",
    "    n_passed = 0\n",
    "    n_failed = 0\n",
    "    for i in range(0, n_tests):\n",
    "        a = sample( range(-10 * n_tests,  10 * n_tests ), test_size)\n",
    "        k = randint(1, len(a))\n",
    "        kbiggest = BiggestOutOfOrder(a.copy(), k)\n",
    "        if len(kbiggest) != k:\n",
    "            if n_failed < 10:\n",
    "                print(' Code returns the wrong sized array!')\n",
    "            n_failed += 1\n",
    "            continue\n",
    "        if sorted(kbiggest) != sorted(a)[-k:]:\n",
    "            if n_failed < 10:\n",
    "                print(' Code did not return the ', k, ' biggest elements!')\n",
    "                print(' Code returned ', sorted(kbiggest), ' but we wanted ', sorted(a)[-k:], 'where a is', a)\n",
    "            n_failed += 1\n",
    "            continue\n",
    "        n_passed = n_passed + 1\n",
    "    return n_passed\n",
    "\n",
    "n_tests = 10000\n",
    "n_passed = testBiggestOutOfOrder(10000, 10)\n",
    "print(' num tests  = ', n_tests)\n",
    "print(' num passed = ', n_passed)"
   ]
  },
  {
   "cell_type": "code",
   "execution_count": null,
   "metadata": {},
   "outputs": [],
   "source": []
  }
 ],
 "metadata": {
  "kernelspec": {
   "display_name": "Python 3 (ipykernel)",
   "language": "python",
   "name": "python3"
  },
  "language_info": {
   "codemirror_mode": {
    "name": "ipython",
    "version": 3
   },
   "file_extension": ".py",
   "mimetype": "text/x-python",
   "name": "python",
   "nbconvert_exporter": "python",
   "pygments_lexer": "ipython3",
   "version": "3.11.3"
  }
 },
 "nbformat": 4,
 "nbformat_minor": 4
}
