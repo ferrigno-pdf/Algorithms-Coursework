{
 "cells": [
  {
   "cell_type": "markdown",
   "metadata": {},
   "source": [
    "# CSPB 3104 Assignment 9\n",
    "## Instructions\n",
    "\n",
    "> This assignment is to be completed and uploaded to \n",
    "moodle as a python3 notebook. \n",
    "\n",
    "> Submission deadlines are posted on moodle. \n",
    "\n",
    "> The questions  provided  below will ask you to either write code or \n",
    "write answers in the form of markdown.\n",
    "\n",
    "> Markdown syntax guide is here: [click here](https://github.com/adam-p/markdown-here/wiki/Markdown-Cheatsheet)\n",
    "\n",
    "> Using markdown you can typeset formulae using latex.\n",
    "\n",
    "> This way you can write nice readable answers with formulae like thus:\n",
    "\n",
    ">> The algorithm runs in time $\\Theta\\left(n^{2.1\\log_2(\\log_2( n \\log^*(n)))}\\right)$, \n",
    "wherein $\\log^*(n)$ is the inverse _Ackerman_ function.\n",
    "\n",
    "__Double click anywhere on this box to find out how your instructor typeset it. Press Shift+Enter to go back. __\n"
   ]
  },
  {
   "cell_type": "markdown",
   "metadata": {},
   "source": [
    "## Question 1: Most Likely Mutation Tree\n",
    "\n",
    "This question is inspired by this research article: *Spada et al. J Clin Microbiol. 2004 Sep; 42(9): 4230–4236.* and this episode of the erstwhile popular TV show Numb3rs https://www.hulu.com/watch/315041 (need a hulu subscription).\n",
    "\n",
    "\n",
    "Viruses have RNA which mutate rapidly. Let us assume that the RNA of a viral species can be written as\n",
    "an $l$ letter string made up of A, C, T and G.  While replicating, a virus can mutate through random changes in \n",
    "$k$ out of these $l$ positions with probability proportional to  $2^{-k^2}$.  \n",
    "\n",
    "We collect viral samples starting from a single individual and after sequencing, \n",
    "we observe $n$ mutants $A_1, \\ldots, A_n$, but we do not know which individual mutated to another nor what the order of these mutations were. We wish to  reconstruct the mutation tree that connects $A_i$ to $A_j$ if $A_i$ mutated into $A_j$ or vice-versa. \n",
    "\n",
    "Assume that $l$ is large enough that the same RNA sequence cannot be obtained through two different sequences of mutations.\n",
    "\n",
    "You are given a weighted undirected graph $G$ whose vertices are the RNA sequences $A_1, \\ldots, A_n$ and there is an edge between any two nodes $(A_i, A_j)$ with weight $2^{-d(i,j)^2}$, where $d(i,j)$ is the the number of differences between  $A_i$ and $A_j$. \n",
    "\n",
    "A spanning tree $T$ of $G$ then represents a possible history of mutations, the likelihood of which is given by the product of the edge weights of $T$.\n",
    "\n",
    "Show how to compute the most likely spanning tree $T$ in this graph.\n"
   ]
  },
  {
   "cell_type": "markdown",
   "metadata": {},
   "source": [
    "#### Answer 1 (Expected Length: 6 lines)\n",
    "\n",
    "To obtain the most likely spanning tree $T$ in graph $G$, we most extract the Minimal Spanning Tree.\n",
    "The weight of the edges in this tree is the number of differences between two individuals. \n",
    "Obtaining an MST means that the number of differences in the spanning tree will be minimised.\n",
    "This helps trace the history of mutations, as the difference between the sequences is minimal.\n",
    "To obtain the MST from $T$, we can use any of the two algorithms learned in class.\n",
    "For example, applying Prim's algorithm on the intended tree $T$ yields the MST.\n",
    "Selecting the lowest edge weights in this case means selecting the likely history of mutations.\n",
    "Given the MST, the product of the edge weights is minimised, which provides the most likely mutation history for the given RNA string."
   ]
  },
  {
   "cell_type": "markdown",
   "metadata": {},
   "source": [
    "### Question 2 (A): Distance Between Clusters\n",
    "\n",
    "Let $G$  be a weighted undirected graph with vertices $V$ and edges $E$. \n",
    "\n",
    "Assume that all edge weights are unique and let $T$ be a MST for this graph.\n",
    "\n",
    "Let us partition the vertices into two clusters $V_1$ and $V_2$. If an edge $e: (u,v)$ satisfies\n",
    "$u \\in V_1$ and $v\\in V_2$, we will call it _partition crossing_.\n",
    "\n",
    "We define the distance between these clusters\n",
    "as the minimum weight among all partition crossing edges of the graph. \n",
    "\n",
    "Show that the minimum weight partition crossing edge must belong to the MST $T$.\n",
    "\n",
    "__Hint:__ Attempt a proof by contradiction."
   ]
  },
  {
   "cell_type": "markdown",
   "metadata": {},
   "source": [
    "### Answer 2(A) ( Expected Length: 6 lines)\n",
    "\n",
    "Proof by contradiction:\\\n",
    "For attempting a proof by contradiction, we have to assume that the partition crossing is not in the MST.\\\n",
    "For this to remain an MST, there has to be a partition crossing edge; this is not about two separate trees, there must a connecting edge.\\\n",
    "Having this in mind, we must select another edge that satisfies the condition of being a partition crossing edge, that is $e: (u,v)$ satisfies $u \\in V_1$ and $v\\in V_2$. Let us call this edge $k$ for simplicity\\\n",
    "Now, we add partition crossing edge $k$ (which satisfies the conditions) to connect both vertices.\\\n",
    "We assume $k$ is bigger than the original partition crossing $e_1$; the original partition crossing is the minimum weight among all partition crossing edges.\\\n",
    "The MST does not have the minimum partition crossing edge, which is not appropriate for an MST, as it should contain the edges with the lowest weight.\\\n",
    "The contradiction comes when $e_1$ is added into the MST again (because it is the minimum weight partition crossing edge). $e$ and $k$ cannot coexist in the MST because $k$ creates a cycle, which cannot happen in an MST. Adding $e_1$ to the MST as the partition crossing edge makes the MST have the minimum weight possible."
   ]
  },
  {
   "cell_type": "markdown",
   "metadata": {},
   "source": [
    "## Question 2 (B) : Distance Between Point Clusters\n",
    "\n",
    "Let $\\mathcal{Q}:\\ \\{ (x_1,y_1), \\ldots, (x_n, y_n)\\}$ be the coordinates of $n$ points on a plane. Given a partition of $\\mathcal{Q}$ into two clusters $\\mathcal{Q}_1$ and $\\mathcal{Q}_2$, the distance between these clusters is defined as the smallest among the pairwise distances taking one point in $\\mathcal{Q}_1$ and one in $\\mathcal{Q}_2$:\n",
    " \n",
    " $$d(\\mathcal{Q}_1, \\mathcal{Q}_2) = \\min_{ (x_i, y_i) \\in \\mathcal{Q}_1, (x_j, y_j) \\in \\mathcal{Q}_2}\\ \\sqrt{(y_j-y_i)^2 + (x_j - x_i)^2} \\,.$$\n",
    "\n",
    "Given such a partition of $\\mathcal{Q}$, write an efficient algorithm to calculate the distance between them. In particular, we would like you to use the idea from 2(A) for this task. Also, what is the complexity of your method?\n"
   ]
  },
  {
   "cell_type": "markdown",
   "metadata": {},
   "source": [
    "### Answer 2 (B) (Expected Length: 8 lines)\n",
    "\n",
    "Using the idea from 2(A), we need to use the minimum partition crossing edge to connect these two clusters, as done with the two verices.\\\n",
    "As we saw in class, Prim's algorithm makes use of a minheap, to obtain the minimum weight of all edges from n to some node in the tree.\\\n",
    "In this case, we will take into account partition crossing edges that satisfy the conditions of $(x_i, y_i) \\in Q_1, (x_j, y_j) \\in Q_2$\\\n",
    "$(x_i, y_i)$ represents a node in $Q_1$, this means that as we saw in Prim's algorithm, it needs to have two properties: $node.d$, which is the minimum weight of all edges from n to some node in the tree, and $node.\\pi$, which is the destination node for the minimum weight edge.\\\n",
    "In this case, the weight of edges between each partition crossing edge is: $\\sqrt{(y_j-y_i)^2 + (x_j - x_i)^2}$\\\n",
    "Using Prim's algorithm makes for an efficient choice in finding the shortest distance\n",
    "1. Run Prim's algorithm and initialise each node as $n.d = \\infty$ and $n.\\pi = nil$.\n",
    "2. Heapify the vertices according to their $node.d$, which is defined as the established $\\sqrt{(y_j-y_i)^2 + (x_j - x_i)^2}$\n",
    "3. Loop through the heap (while it's not empty) and extract a vertex.\n",
    "4. If its $n.\\pi = nil$, establish the edge $e = (n.\\pi, n)$\n",
    "5. Add e to the tree.\n",
    "6. Loop through all edges $(n, m) \\in G$. If $m$ is not in tree, update $m.d = min(m.d, \\sqrt{(y_j-y_i)^2 + (x_j - x_i)^2})$\n",
    "7. Update $m.\\pi$.\n",
    "8. Bubble up the heap.\n",
    "9. The MST has been created, now we need to identify the partition crossing edge.\n",
    "10. Loop through the adjecency list of the tree (if MST represented as such) and check wether both vertices in an edge $e = ((x_i, y_i), (x_j, y_j))$ satisfy the condition $(x_i, y_i) \\in Q_1, (x_j, y_j) \\in Q_2$\n",
    "11. If the condition is satisfied, return the weight of the edge between these two vertices. This is the partition crossing edge.\n",
    "\n",
    "Prim's algorithm takes a total of $\\Theta(|V|log(|V|) + |E|)$, where $V$ is the amount of vertices and $E$ is the amount of edges. Looping through the adjacency list takes $\\Theta(|V|)$ as it loops through all the vertices in the graph.\n",
    "\n",
    "Given these operations, the overall time complexity of this algorithm is of $\\Theta(|V|log(|V|) + |E|)$.\n"
   ]
  },
  {
   "cell_type": "markdown",
   "metadata": {},
   "source": [
    "### Question 2(C): Finding maximally separated clusters\n",
    "\n",
    "Now you are given $\\mathcal{Q}$ as above ($n$ points scattered in the plane), but without a partition.\n",
    "Use the idea from 2(B) to partition the set $\\mathcal{Q}$ into maximally separated clusters $\\mathcal{Q}_1$ and $\\mathcal{Q}_2$.  Ie, find $\\mathcal{Q}_1$ and $\\mathcal{Q}_2$ such that\n",
    "$d(\\mathcal{Q}_1, \\mathcal{Q}_2)$ is maximized.\n",
    "\n"
   ]
  },
  {
   "cell_type": "markdown",
   "metadata": {},
   "source": [
    "### Answer 2(C) (Expected Size: 4 lines)\n",
    "\n",
    "This answer is similar to 2(B), as it involves creating an MST. But, instead of using the minimum weight for the partition crossing edge, we have to use the maximum weight for the partition crossing edge. The MST stays the same, but the partition crossing edge must be maximised. The algorithm will look like the following:\n",
    "\n",
    "1. Run Prim's algorithm like in 2(B)'s algorithm. This makes the Minimal Spanning Tree.\n",
    "2. As the MST is created, we need to look for the maximum distance.\n",
    "3. Loop through the adjacency list of the tree, and look for the maximum weight between an edge.\n",
    "4. This maximum weight is the partition crossing edge. This edge will be the connecting edge between $Q_1$ and $Q_2$.\n",
    "5. Given the resulting tree, partition the tree into $Q_1$ and $Q_2$, based on the crossing edge (For the partition, check that only one edge that satisfies $(x_i, y_i) \\in Q_1, (x_j, y_j) \\in Q_2$).\n",
    "6. Return the tree of points separated in clusters.\n",
    "\n",
    "The running time of this algorithm is of $\\Theta(|V|log(|V|) + |E|)$, similar to the algorithm fro, 2(B)."
   ]
  },
  {
   "cell_type": "markdown",
   "metadata": {},
   "source": [
    "## Question 3:  Circular dependencies\n",
    "\n",
    "Jane Programmer (of the dreaded dynamic programming assignment) has been reviewing her school's course catalog.  Classes in her department are organized into 8 divisions -- PBNJ-1000 through PBNJ-8999, with each division more difficult than the last.  But Jane has noticed some issues -- some upper division classes have lower division prerequisites, but the opposite is true as well.  In fact, her current course, PBNJ-3104, requires PBNJ-2400 and PBNJ-2400 requires PBNJ-1300, but PBNJ-1300 requires PBNJ-3104! \n",
    "\n",
    "She wants to report these circular dependencies to the dean of the department by finding two classes which depend on each other and have the largest difference in class number.  In the example above, PBNJ-3104 and PBNJ-1300 depend on each other and have a difference of 3104 - 1300 = 1804.\n",
    "\n",
    "Given a list of classes and their prerequisites, describe an algorithm that will help Jane find the pair of classes with maximum difference between their class numbers.\n",
    "\n",
    "What is the running time of your algorithm in terms of number of classes and prereqs?\n",
    "\n",
    "__HINT:__ Your algorithm should involve the strongly connected components of a graph."
   ]
  },
  {
   "cell_type": "markdown",
   "metadata": {},
   "source": [
    "### Answer 3  (Expected Length: 5 lines) \n",
    "\n",
    "These classes and their dependencies can be represented as a directed unweighted graph. Let us call this graph $G$.\\\n",
    "To detect cycles among our graph $G$, we can search for MSCC. In this case, the cycles are circular dependencies, which is what we are looking for.\\\n",
    "To find the MSCCs on our graph $G$, we can use the following algorithm, taken from class, and adapted so that the maximum class difference is taken into account.\\\n",
    "The greatest difference between two courses is not only when they are directly connected, it's also when they're both part of the cycle.\\\n",
    "So, we have to obtain the biggest difference in course no. between each course in the supergraph.\\\n",
    "The algorithm would look like the following:\\\n",
    "1. Run a DFS on graph $G$.\n",
    "2. Reverse graph $G$ (or transpose) $G = G^T$. Run DFS on $G^T$. Do the DFS on the descending order of the finish times.\n",
    "3. This obtains the supergraph, which contains the MSCCs clustered up.\n",
    "4. Given our supergraph, loop through each cluster and obtain the highest and lowest course no.\n",
    "5. Carry out the substraction and obtain the result.\n",
    "6. Topologically sort each MSCC in descending order, according the difference in course numbers.\n",
    "7. Return this pair of courses inside the cluster with highest difference (these two courses have been recorded as the highest and lowest course no).\n",
    "\n",
    "The running time of this algorithm is of $\\Theta(|V| + |E|)$, as this is the running time of finding the MSCC. This is the result of two DFS visits, a Reversal, and looping through the clusters and finding the biggest difference. $V$ in this case represents the amount of vertices and $E$ represents the amount of edges."
   ]
  },
  {
   "cell_type": "markdown",
   "metadata": {},
   "source": [
    "## Testing your solutions -- Do not edit code beyond this point"
   ]
  },
  {
   "cell_type": "code",
   "execution_count": null,
   "metadata": {},
   "outputs": [],
   "source": []
  }
 ],
 "metadata": {
  "kernelspec": {
   "display_name": "Python 3 (ipykernel)",
   "language": "python",
   "name": "python3"
  },
  "language_info": {
   "codemirror_mode": {
    "name": "ipython",
    "version": 3
   },
   "file_extension": ".py",
   "mimetype": "text/x-python",
   "name": "python",
   "nbconvert_exporter": "python",
   "pygments_lexer": "ipython3",
   "version": "3.11.3"
  }
 },
 "nbformat": 4,
 "nbformat_minor": 4
}
