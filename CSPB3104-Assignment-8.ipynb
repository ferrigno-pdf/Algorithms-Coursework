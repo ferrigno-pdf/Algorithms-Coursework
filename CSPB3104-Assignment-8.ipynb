{
 "cells": [
  {
   "cell_type": "markdown",
   "metadata": {
    "deletable": false,
    "editable": false,
    "nbgrader": {
     "checksum": "0e912d91fc43af4de0293c408025a668",
     "grade": false,
     "grade_id": "cell-127b1a833cb3b365",
     "locked": true,
     "schema_version": 1,
     "solution": false
    }
   },
   "source": [
    "# CSPB 3104 Assignment 8: Problem Set\n",
    "## Instructions\n",
    "\n",
    "> This assignment is to be completed and uploaded to \n",
    "moodle as a python3 notebook. \n",
    "\n",
    "> Submission deadlines are posted on moodle. \n",
    "\n",
    "> The questions  provided  below will ask you to either write code or \n",
    "write answers in the form of markdown.\n",
    "\n",
    "> Markdown syntax guide is here: [click here](https://github.com/adam-p/markdown-here/wiki/Markdown-Cheatsheet)\n",
    "\n",
    "> Using markdown you can typeset formulae using latex.\n",
    "\n",
    "> This way you can write nice readable answers with formulae like thus:\n",
    "\n",
    ">> The algorithm runs in time $\\Theta\\left(n^{2.1\\log_2(\\log_2( n \\log^*(n)))}\\right)$, \n",
    "wherein $\\log^*(n)$ is the inverse _Ackerman_ function.\n",
    "\n",
    "__Double click anywhere on this box to find out how your instructor typeset it. Press Shift+Enter to go back.__\n"
   ]
  },
  {
   "cell_type": "markdown",
   "metadata": {
    "deletable": false,
    "editable": false,
    "nbgrader": {
     "checksum": "bec909e672e3976357fa513c80c7c64a",
     "grade": false,
     "grade_id": "cell-b34e71ff2fc2e751",
     "locked": true,
     "schema_version": 1,
     "solution": false
    }
   },
   "source": [
    "----"
   ]
  },
  {
   "cell_type": "markdown",
   "metadata": {
    "deletable": false,
    "editable": false,
    "nbgrader": {
     "checksum": "27ae8cb5796bb77cc365e4e382b8019b",
     "grade": false,
     "grade_id": "cell-1945cd477b54f85c",
     "locked": true,
     "schema_version": 1,
     "solution": false
    }
   },
   "source": [
    "## Question 1: Shortest Cycle Involving a Given Node.\n",
    "\n",
    "You are given a directed graph $G: (V, E)$ using an adjacency list representation and a vertex (node) $u$ of the graph.\n",
    "Write an algorithm to perform the following tasks:\n",
    "\n",
    "__1(A)__ Write an algorithm that decides (true/false) whether the vertex $u$ belongs to a cycle.\n",
    "\n",
    "What is the complexity for your algorithm in terms of the number of vertices $|V|$ and the number of edges $|E|$?\n",
    "\n",
    "Note: Throughout this assignment you may describe your algorithms using words and definitely use algorithms that you have already learned in class. A brief description will do.\n"
   ]
  },
  {
   "cell_type": "markdown",
   "metadata": {
    "deletable": false,
    "nbgrader": {
     "checksum": "0cf6dd299d41db50d3c7e78e3bb2fe2f",
     "grade": true,
     "grade_id": "cell-f62177827f9dd187",
     "locked": false,
     "points": 15,
     "schema_version": 1,
     "solution": true
    }
   },
   "source": [
    "As seen in class, a graph has a cycle iff Depth First Search (DFS) at vertex $u$ produces a back-edge. If the DFS traversal from a neighbour of $u$, called $v$ returns to $u$, then there is a cycle in the graph, which obviously includes vertex $u$. So for this, the ideal form of checking wether a vertex $u$ belongs to a cycle is the following:\n",
    "\n",
    " If a recursive DFS traversal from a neighbour v leads back to vertex u, it means that there is a cycle in the graph that includes vertex u.\n",
    "1. Run dfsVisit(G,$u$)\n",
    "2. For neighbours of $u$, $v$, run: dfsVisit(G,$v$). This updates $v.seen = True$\n",
    "3. Check wether the DFS traversal from $v$ returns to $u$ (check if $u$'s seen attribute has been marked as true). As the traversal returns to $u$, this means a cycle has been detected.\n",
    "4. If the cycle is detected return True.\n",
    "5. Otherwise return False.\n",
    "\n",
    "The overall time complexity for this algorithm is $\\Theta(|V| + |E|)$, where $V$ is the number of vertices and $E$ is the number of edges."
   ]
  },
  {
   "cell_type": "markdown",
   "metadata": {
    "deletable": false,
    "editable": false,
    "nbgrader": {
     "checksum": "886110138aee0e57218dd5b609150262",
     "grade": false,
     "grade_id": "cell-62c105704e7ed5fb",
     "locked": true,
     "schema_version": 1,
     "solution": false
    }
   },
   "source": [
    "__1(B)__ Write an algorithm which prints the smallest length cycle involving the vertex $u$.\n",
    "\n",
    "What is the complexity for your algorithm in terms of the number of vertices $|V|$ and the number of edges $|E|$?\n"
   ]
  },
  {
   "cell_type": "markdown",
   "metadata": {
    "deletable": false,
    "nbgrader": {
     "checksum": "819b4c2261a0b0f3d19d8829a5efa46c",
     "grade": true,
     "grade_id": "cell-1c7b2a45df2ec8ca",
     "locked": false,
     "points": 15,
     "schema_version": 1,
     "solution": true
    }
   },
   "source": [
    "Also seen in class, Breadth First Search (BFS) is a way to obtain the shortest path cycle to the given node $u$. The steps for finding the smallest length cycle involving $u$ is the following:\n",
    "\n",
    "1. Run bfs(G, $v$). This runs bfs on the given starting node, as we want to find the shortest path to $u$. This initialises a queue, with the given node in it. It can be described as $Q = {v}$. It sets $v$'s parent to Nil and marks it as seen.\n",
    "2. Iterate throough the queue while it is not empty. Remove $v$ from the queue.\n",
    "3. Loop through the vertices adjacent to $v$ in the Graph.\n",
    "4. If they haven't been seen, add their parent to be $v$, the dequeued node in the current iteration.\n",
    "5. Mark the node as seen and add it to the queue.\n",
    "6. When looping through the adjacent vertices, check wether or not $u$ is the current node in the iteration. If it is, break the loop, the shortest path to $u$ has been found.\n",
    "7. As all the nodes on this path have been marked with their parents, go through each of the node and determine their parent. Do this while the parent is not nill. As an example, you would go through $u$'s parent, through $u$'s grandparent, etc. You can either print out the path, or add the node IDs to the an array and reverse it.\n",
    "\n",
    "The time complexity for finding the smallest length cycle involving $u$ is the same as BFS, running at an average time complexity of $\\Theta(|V| + |E|)$, where $V$ is the number of vertices and $E$ is the number of edges."
   ]
  },
  {
   "cell_type": "markdown",
   "metadata": {
    "deletable": false,
    "editable": false,
    "nbgrader": {
     "checksum": "b4154440aa7853b85560ef2a595a8212",
     "grade": false,
     "grade_id": "cell-a40c85c43d85c203",
     "locked": true,
     "schema_version": 1,
     "solution": false
    }
   },
   "source": [
    "----"
   ]
  },
  {
   "cell_type": "markdown",
   "metadata": {
    "deletable": false,
    "editable": false,
    "nbgrader": {
     "checksum": "5094817e04e8fc96af1a6acc77207723",
     "grade": false,
     "grade_id": "cell-5b55e83496f8700c",
     "locked": true,
     "schema_version": 1,
     "solution": false
    }
   },
   "source": [
    "## Question 2: Tracing an Epidemic\n",
    "\n",
    "An email with a malicious attachment has evaded the antivirus software of company X.\n",
    "We know that the CEO's computer was infected during a business trip last month. Since then,investigators have \n",
    "been trying to determine whose mailboxes could be infected. For an employee's mailbox to be infected, he or she must have received\n",
    "and read  an email sent by an already affected employee. \n",
    "\n",
    "Starting from the time $0$ denoting when the CEO's mailbox was first infected, investigators have \"metadata\" for all\n",
    "the emails from all employees in the form\n",
    "\n",
    "$(P_i, P_j, t_k, t_l)$ meaning that employee $P_i$ sent an email at time $t_k$ to employee $P_j$, and $P_j$ opened the email at\n",
    "time $t_l > t_k$.  We assume that $P_j$'s mailbox is infected instantaneously at time $t_l$ if $P_i$'s mailbox was infected before time $t_k$. \n",
    "\n",
    "You are given a collection of email records in the form given above, and  you know that person $P_0$ is the CEO who was infected at time $t = 0$.\n",
    "\n",
    "we ask if a given person of interest $P_j$ could have been infected at a given time of interest $t = T$.\n",
    "\n",
    "__2(A)__ Write an algorithm that, given a person $P_j$ and time $T$, determines if $P_j$'s mailbox was infected before or at time $T$. What is the worst case complexity of your algorithm in terms of the number of persons $|P|$,  and the number of emails sent $|E|$.\n",
    "\n",
    "**Hint** You need to first make a graph that represents the possible flow of the \"infection\" through emails. It is easier to make a complicated graph (in this case, one where each vertex represents more than just a person) and then run a simple graph algorithm (one of the vanilla algorithms we learned this week, ie BFS/DFS/Topological sort) rather than making a simple graph and running a complicated ad-hoc algorithm on it (If your algorithm requires table lookups or passing on metadata specific to the problem at hand, it's probably too complicated).  "
   ]
  },
  {
   "cell_type": "markdown",
   "metadata": {
    "deletable": false,
    "nbgrader": {
     "checksum": "7dc1b3d1657885260248e1aac7806a94",
     "grade": true,
     "grade_id": "cell-ca4da08b8011560d",
     "locked": false,
     "points": 15,
     "schema_version": 1,
     "solution": true
    }
   },
   "source": [
    "The metadata contains all of the information on the possible infections between persons. The best way to determine wether or not someone has been infected is to not only label the vertices as persons, but also add if they have been infected or not. As $P_0$ has been infected at $t = 0$, if the infected $P_1$ (considering he opened it at $t_l = 1$) sent an email to $P_2$ at $t_k = 2$ and $P_2$ opened it at $t_l = 3$, this means that $P_2$ has been infected as well. Recording wether a certain person has been infected before he sent out an email is crucial, and the metadata helps on that. The algorithm for determining the flow of infection, and wether the person was infected is the following:\n",
    "\n",
    "1. Create a graph G according to the information provided in the metadata. Each vertex represents a person $P_i$, and each directed edge from vertex $P_i$ to vertex $P_j$ represents an email sent from $P_i$ to $P_j$, with the timestamps of sending and opening the email.\n",
    "2. While creating the graph, determine if the person was infected by checking the time; wether or not he sent an email before he opened the email from the infected person.\n",
    "3. Run Breadth First Search on the graph, with an extra parameter, $T$.\n",
    "4. Carry out BFS normally but add additional condition to check $t_l$ of the current node.\n",
    "5. If $t_l$ happened before or at $T$, return True. Otherwise, return False.\n",
    "\n",
    "The time complexity for this algorithm is $\\Theta(|P| + |E|)$, as the algorithm traverses through all the edges of the Graph."
   ]
  },
  {
   "cell_type": "markdown",
   "metadata": {
    "deletable": false,
    "editable": false,
    "nbgrader": {
     "checksum": "44ca5f2c62e15d7e23c315161b8c5c16",
     "grade": false,
     "grade_id": "cell-ea8e4613fd3a0ecc",
     "locked": true,
     "schema_version": 1,
     "solution": false
    }
   },
   "source": [
    "__2(B)__ Write an algorithm that prints out each person who is infected in increasing order of the times in which they\n",
    "first got infected.\n"
   ]
  },
  {
   "cell_type": "markdown",
   "metadata": {
    "deletable": false,
    "nbgrader": {
     "checksum": "7ee04073478778baf66d029d0575febf",
     "grade": true,
     "grade_id": "cell-e854214ca7571bd4",
     "locked": false,
     "points": 15,
     "schema_version": 1,
     "solution": true
    }
   },
   "source": [
    "To obtain the nodes in the increasing order according to their infection times, topological sort is the simplest route for obtaining this. The algorithm would look like the following:\n",
    "\n",
    "1. Repeat steps 1 and 2 from __2(A)__, in which a Graph is created and their infection times are recorded. This means determining the status of infection of each person.\n",
    "\n",
    "2. Run Depth First Search on the Graph, this records the start times of the vertices and their finish times. Infection time has been recorded too beforehand.\n",
    "\n",
    "3. Run a topological sort on the graph. As this is a DAG, this can be done. A topological sort will sort the infection times in increasing order, yielding the order of infection. Start with the CEO, as he was infected at $t = 0$, and go through the infected nodes in the order in which they got infected, while printing out each of them.\n",
    "\n",
    "Once again, as this algorithm traverses through all of the vertices and edges, this algorithm has a complexity of $\\Theta(|P| + |E|)$, where $P$ represents the amount of people and $E$ represents the emails between people, or edges in the Directed Graph.\n"
   ]
  },
  {
   "cell_type": "markdown",
   "metadata": {
    "deletable": false,
    "editable": false,
    "nbgrader": {
     "checksum": "5463ccc822ea257abab616b1ed295b3d",
     "grade": false,
     "grade_id": "cell-bbbaebd54182a91b",
     "locked": true,
     "schema_version": 1,
     "solution": false
    }
   },
   "source": [
    "----"
   ]
  },
  {
   "cell_type": "markdown",
   "metadata": {
    "deletable": false,
    "editable": false,
    "nbgrader": {
     "checksum": "1c292ea1a4ed3fab4f484d8cb4fdcd5b",
     "grade": false,
     "grade_id": "cell-5476b9fe46e69f6b",
     "locked": true,
     "schema_version": 1,
     "solution": false
    }
   },
   "source": [
    "## Question 3: Testing Moth Age Expert\n",
    "\n",
    "A person claims to have spent his life studying the emperor gum moth  *Opodiphthera eucalypti*. \n",
    "Given two moth samples, he claims to tell us which one is the older. Of course, \n",
    "we ourselves are no experts and they all in fact look the same to us.\n",
    "\n",
    "\n",
    "We test the person as follows: (a) collect a large number $n$ of e.g. moth specimen; (b) randomly\n",
    "select $m$ different pairs from our collection and have the person tell us which one is older; \n",
    "(c) record their answers and analyze them to see if they are _consistent_\n",
    "\n",
    "Write an algorithm to detect if the \"expert\" opinions are _consistent_. \n",
    "\n",
    "\n",
    "**Hint:** We have refrained from discussing what consistency means in this case. But can provide you an example as a hint.\n",
    "\n",
    "__Example__ \n",
    "\n",
    "Suppose $n= 4$ and the expert says that\n",
    "\n",
    "Specimen \\# $1$ is older than $2$, $3$ is older than $4$, $4$ is older than $2$ and $2$ is older\n",
    "than $3$.\n",
    "\n",
    "The expert's opinion is clearly *inconsistent*.\n",
    "\n",
    "Suppose $n=4$ and the expert says that\n",
    "\n",
    "Specimen \\# $1$ is older than $2$, $3$ is older than $4$ and $4$ is older than $1$. The\n",
    "expert's answer is *consistent*.\n",
    "\n"
   ]
  },
  {
   "cell_type": "markdown",
   "metadata": {
    "deletable": false,
    "nbgrader": {
     "checksum": "838f173066756cd41eafb0e4fbfcda57",
     "grade": true,
     "grade_id": "cell-0ae64f4d37077c7a",
     "locked": false,
     "points": 20,
     "schema_version": 1,
     "solution": true
    }
   },
   "source": [
    "In this context, consistency means wether or not a proper arrangement of moth age can be made or not. If the pairs contradict each other in their order, there is no way to determine the real order of the moth ages. As there are pairs provided, in the form $(M_i, M_j)$, where $M_i$ is older than $M_j$, to determine if the order is consistent, a directed graph must be formulated. $(M_i, M_j)$ represents a directed edge, which goes from $M_i$ to $M_j$. Provided $m$, the number of pairs, the algorithm consists of the following:\n",
    "\n",
    "1. Create a directed graph using the $m$ pairs. As explained, each pair cconsists of a directed edge from $M_i$ to $M_j$.\n",
    "\n",
    "The expert's opinion is consistent if the directed graph is Acyclic or not (wether it's a DAG or not). If it contains a cycle, the age order cannot be coherent and the expert's opinion is not consistent.\n",
    "\n",
    "As seen in class, a graph has a cycle iff its DFS produces a back edge.\n",
    "\n",
    "2. Run Depth First Search on the graph, starting from $n = 1$.\n",
    "3. Check wether or not Graph from DFS has a back edge. Iff the graph produced by a DFS has a back edge, this means the opinion is inconsistent.\n",
    "4. Return False if the DFS has a back edge. Otherwise, return True.\n",
    "\n",
    "Discovery times and finishing times are tracked in DFS. To determine wether or not a DFS a back edge, the discovery times and finishing times of each vertex in the directed edge are checked. This can be expressed as the following:\n",
    "\n",
    "There is a back edge in the graph iff $V_j.d$ < $V_i.d$ < $V_i.f$ < $V_j.f$. Variable $d$ represents the discovery time and $f$ represents the finishing time. A back edge means the discovery and finishing time interval of $V_i$ is contained inside the discovery and finishing time interval of $V_j$.\n",
    "\n",
    "The time complexity of this algorithm is once again of $\\Theta(|n| + |m|)$, as all of the nodes and edges would be traversed."
   ]
  },
  {
   "cell_type": "markdown",
   "metadata": {
    "deletable": false,
    "editable": false,
    "nbgrader": {
     "checksum": "971c10d1b1e963ad625846abddc60f97",
     "grade": false,
     "grade_id": "cell-4e1b94d22bdd769d",
     "locked": true,
     "schema_version": 1,
     "solution": false
    }
   },
   "source": [
    "----"
   ]
  },
  {
   "cell_type": "markdown",
   "metadata": {
    "deletable": false,
    "editable": false,
    "nbgrader": {
     "checksum": "9ec4d44f30e520be55507d66b8c1e5d0",
     "grade": false,
     "grade_id": "cell-73a95ac75b7272e1",
     "locked": true,
     "schema_version": 1,
     "solution": false
    }
   },
   "source": [
    "## Question 4: Testing if an undirected graph is acyclic\n",
    "\n",
    "You are given a strongly connected, undirected graph $G$ with $n$ vertices as an adjacency list. Write an algorithm to check if $G$ has a cycle that runs in time $\\Theta(n)$.\n",
    "\n",
    "*Hint* A connected, undirected acyclic graph is a tree. Since you are already given that $G$ is connected, you are just checking if $G$ is a tree. How many edges would a tree have?\n"
   ]
  },
  {
   "cell_type": "markdown",
   "metadata": {
    "deletable": false,
    "nbgrader": {
     "checksum": "ff16477da1925d3c9c70c0b5b4234ae7",
     "grade": true,
     "grade_id": "cell-68cb53d23a2a9ba5",
     "locked": false,
     "points": 20,
     "schema_version": 1,
     "solution": true
    }
   },
   "source": [
    "Given that an undirected graph is a tree, to determine if it is acyclic or not, the way to go is to count the edges of the graph. If the graph is acyclic, as in a tree, the number of edges $E$ is the same as $N - 1$, where $n$ represents the number of nodes or vertices.\n",
    "\n",
    "1. Take $N$ as the length of the graph, this is the amout of vertices.\n",
    "2. Verify if $N - 1$ is the same as $E$. If it is not the same number, the undirected graph is not acyclic or may have disconnected vertices.\n",
    "3. If it is, traverse the graph (starting from node 0) to verify that all the vertices have a connection to another vertex. If they do not, it may be the case that one of the nodes is disconnected and there is a cycle.\n",
    "4. If all the vertices have connections to another node, meaning that there are no disconnected nodes, return True. Both the condition that all vertices need to be connected and that the graph is acyclic have been satisfied."
   ]
  },
  {
   "cell_type": "code",
   "execution_count": null,
   "metadata": {},
   "outputs": [],
   "source": []
  }
 ],
 "metadata": {
  "kernelspec": {
   "display_name": "Python 3 (ipykernel)",
   "language": "python",
   "name": "python3"
  },
  "language_info": {
   "codemirror_mode": {
    "name": "ipython",
    "version": 3
   },
   "file_extension": ".py",
   "mimetype": "text/x-python",
   "name": "python",
   "nbconvert_exporter": "python",
   "pygments_lexer": "ipython3",
   "version": "3.11.3"
  }
 },
 "nbformat": 4,
 "nbformat_minor": 4
}
